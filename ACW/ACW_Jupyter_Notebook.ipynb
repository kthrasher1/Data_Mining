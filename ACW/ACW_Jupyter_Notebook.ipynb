{
 "cells": [
  {
   "cell_type": "markdown",
   "metadata": {},
   "source": [
    "<center> <h1> 600092 <br>  Data Mining and Decision Systems </h1> </center>"
   ]
  },
  {
   "cell_type": "markdown",
   "metadata": {},
   "source": [
    "---"
   ]
  },
  {
   "cell_type": "markdown",
   "metadata": {},
   "source": [
    "<center> <h2> Data Cleaning </h2> </center>"
   ]
  },
  {
   "cell_type": "markdown",
   "metadata": {},
   "source": [
    "#### Importing necessary libraries."
   ]
  },
  {
   "cell_type": "code",
   "execution_count": 1,
   "metadata": {},
   "outputs": [
    {
     "name": "stderr",
     "output_type": "stream",
     "text": [
      "/home/linuxbrew/.linuxbrew/opt/python/lib/python3.7/site-packages/matplotlib/__init__.py:886: MatplotlibDeprecationWarning: \n",
      "examples.directory is deprecated; in the future, examples will be found relative to the 'datapath' directory.\n",
      "  \"found relative to the 'datapath' directory.\".format(key))\n"
     ]
    }
   ],
   "source": [
    "import pandas as pd\n",
    "import seaborn as sns\n",
    "import numpy as np\n",
    "import sklearn as sk\n",
    "import matplotlib.pyplot as plt\n",
    "import scikitplot as skplt\n",
    "from sklearn.tree import DecisionTreeClassifier\n",
    "\n",
    "%matplotlib inline"
   ]
  },
  {
   "cell_type": "markdown",
   "metadata": {},
   "source": [
    "#### Importing dataset and creating a copy of the dataset."
   ]
  },
  {
   "cell_type": "code",
   "execution_count": 2,
   "metadata": {},
   "outputs": [],
   "source": [
    "non_standard_vals = [\"na\", \"n/a\", \"--\", \" \"]\n",
    "df = pd.read_csv('600092_data.csv', na_values=non_standard_vals)\n",
    "\n",
    "df_copy = df.copy()"
   ]
  },
  {
   "cell_type": "markdown",
   "metadata": {},
   "source": [
    "Also here, using non_standard_vals, this checks if there's any non-standard null values such as `na, n/a, --, \" \"` in the dataset, then in the import, those values are replaced with correct standard null values."
   ]
  },
  {
   "cell_type": "markdown",
   "metadata": {},
   "source": [
    " #### Making sure the data has been correctly imported"
   ]
  },
  {
   "cell_type": "code",
   "execution_count": 3,
   "metadata": {},
   "outputs": [
    {
     "data": {
      "text/html": [
       "<div>\n",
       "<style scoped>\n",
       "    .dataframe tbody tr th:only-of-type {\n",
       "        vertical-align: middle;\n",
       "    }\n",
       "\n",
       "    .dataframe tbody tr th {\n",
       "        vertical-align: top;\n",
       "    }\n",
       "\n",
       "    .dataframe thead th {\n",
       "        text-align: right;\n",
       "    }\n",
       "</style>\n",
       "<table border=\"1\" class=\"dataframe\">\n",
       "  <thead>\n",
       "    <tr style=\"text-align: right;\">\n",
       "      <th></th>\n",
       "      <th>Random</th>\n",
       "      <th>Id</th>\n",
       "      <th>Indication</th>\n",
       "      <th>Diabetes</th>\n",
       "      <th>IHD</th>\n",
       "      <th>Hypertension</th>\n",
       "      <th>Arrhythmia</th>\n",
       "      <th>History</th>\n",
       "      <th>IPSI</th>\n",
       "      <th>Contra</th>\n",
       "      <th>label</th>\n",
       "    </tr>\n",
       "  </thead>\n",
       "  <tbody>\n",
       "    <tr>\n",
       "      <th>0</th>\n",
       "      <td>0.602437</td>\n",
       "      <td>218242</td>\n",
       "      <td>A-F</td>\n",
       "      <td>no</td>\n",
       "      <td>no</td>\n",
       "      <td>yes</td>\n",
       "      <td>no</td>\n",
       "      <td>no</td>\n",
       "      <td>78.0</td>\n",
       "      <td>20.0</td>\n",
       "      <td>NoRisk</td>\n",
       "    </tr>\n",
       "    <tr>\n",
       "      <th>1</th>\n",
       "      <td>0.602437</td>\n",
       "      <td>159284</td>\n",
       "      <td>TIA</td>\n",
       "      <td>no</td>\n",
       "      <td>no</td>\n",
       "      <td>no</td>\n",
       "      <td>no</td>\n",
       "      <td>no</td>\n",
       "      <td>70.0</td>\n",
       "      <td>60.0</td>\n",
       "      <td>NoRisk</td>\n",
       "    </tr>\n",
       "    <tr>\n",
       "      <th>2</th>\n",
       "      <td>0.602437</td>\n",
       "      <td>106066</td>\n",
       "      <td>A-F</td>\n",
       "      <td>no</td>\n",
       "      <td>yes</td>\n",
       "      <td>yes</td>\n",
       "      <td>no</td>\n",
       "      <td>no</td>\n",
       "      <td>95.0</td>\n",
       "      <td>40.0</td>\n",
       "      <td>Risk</td>\n",
       "    </tr>\n",
       "    <tr>\n",
       "      <th>3</th>\n",
       "      <td>0.128157</td>\n",
       "      <td>229592</td>\n",
       "      <td>TIA</td>\n",
       "      <td>no</td>\n",
       "      <td>no</td>\n",
       "      <td>yes</td>\n",
       "      <td>no</td>\n",
       "      <td>no</td>\n",
       "      <td>90.0</td>\n",
       "      <td>85.0</td>\n",
       "      <td>Risk</td>\n",
       "    </tr>\n",
       "    <tr>\n",
       "      <th>4</th>\n",
       "      <td>0.676862</td>\n",
       "      <td>245829</td>\n",
       "      <td>CVA</td>\n",
       "      <td>no</td>\n",
       "      <td>no</td>\n",
       "      <td>no</td>\n",
       "      <td>no</td>\n",
       "      <td>no</td>\n",
       "      <td>70.0</td>\n",
       "      <td>20.0</td>\n",
       "      <td>NoRisk</td>\n",
       "    </tr>\n",
       "  </tbody>\n",
       "</table>\n",
       "</div>"
      ],
      "text/plain": [
       "     Random      Id Indication Diabetes  IHD Hypertension Arrhythmia History  \\\n",
       "0  0.602437  218242        A-F       no   no          yes         no      no   \n",
       "1  0.602437  159284        TIA       no   no           no         no      no   \n",
       "2  0.602437  106066        A-F       no  yes          yes         no      no   \n",
       "3  0.128157  229592        TIA       no   no          yes         no      no   \n",
       "4  0.676862  245829        CVA       no   no           no         no      no   \n",
       "\n",
       "   IPSI  Contra   label  \n",
       "0  78.0    20.0  NoRisk  \n",
       "1  70.0    60.0  NoRisk  \n",
       "2  95.0    40.0    Risk  \n",
       "3  90.0    85.0    Risk  \n",
       "4  70.0    20.0  NoRisk  "
      ]
     },
     "execution_count": 3,
     "metadata": {},
     "output_type": "execute_result"
    }
   ],
   "source": [
    "df_copy.head() # Grabs the first 5 entities"
   ]
  },
  {
   "cell_type": "markdown",
   "metadata": {},
   "source": [
    "Looks like the data has imported correctly, now data cleaning can begin."
   ]
  },
  {
   "cell_type": "markdown",
   "metadata": {},
   "source": [
    "#### Understanding the dataset\n"
   ]
  },
  {
   "cell_type": "code",
   "execution_count": 4,
   "metadata": {},
   "outputs": [
    {
     "name": "stdout",
     "output_type": "stream",
     "text": [
      "<class 'pandas.core.frame.DataFrame'>\n",
      "RangeIndex: 1520 entries, 0 to 1519\n",
      "Data columns (total 11 columns):\n",
      "Random          1520 non-null float64\n",
      "Id              1520 non-null int64\n",
      "Indication      1517 non-null object\n",
      "Diabetes        1518 non-null object\n",
      "IHD             1520 non-null object\n",
      "Hypertension    1517 non-null object\n",
      "Arrhythmia      1520 non-null object\n",
      "History         1518 non-null object\n",
      "IPSI            1516 non-null float64\n",
      "Contra          1519 non-null float64\n",
      "label           1517 non-null object\n",
      "dtypes: float64(3), int64(1), object(7)\n",
      "memory usage: 130.8+ KB\n"
     ]
    }
   ],
   "source": [
    "df_copy.info()"
   ]
  },
  {
   "cell_type": "markdown",
   "metadata": {},
   "source": [
    "Using `df_copy.info()` to briefly summarise the dataset, to better understand the data.\n",
    "\n",
    "This shows how many data entities there are, and the different data types."
   ]
  },
  {
   "cell_type": "code",
   "execution_count": 5,
   "metadata": {},
   "outputs": [
    {
     "data": {
      "text/plain": [
       "Random         0.509545\n",
       "Id        188365.022368\n",
       "IPSI          78.872032\n",
       "Contra        56.828176\n",
       "dtype: float64"
      ]
     },
     "execution_count": 5,
     "metadata": {},
     "output_type": "execute_result"
    }
   ],
   "source": [
    "df_copy.mean()"
   ]
  },
  {
   "cell_type": "markdown",
   "metadata": {},
   "source": [
    "Taking the mean from all the numerical values could help later with replacing the nulls in those columns. Same with describe below. Unfortuely they only show a portion of the data as the rest are `str` values"
   ]
  },
  {
   "cell_type": "code",
   "execution_count": 6,
   "metadata": {},
   "outputs": [
    {
     "data": {
      "text/html": [
       "<div>\n",
       "<style scoped>\n",
       "    .dataframe tbody tr th:only-of-type {\n",
       "        vertical-align: middle;\n",
       "    }\n",
       "\n",
       "    .dataframe tbody tr th {\n",
       "        vertical-align: top;\n",
       "    }\n",
       "\n",
       "    .dataframe thead th {\n",
       "        text-align: right;\n",
       "    }\n",
       "</style>\n",
       "<table border=\"1\" class=\"dataframe\">\n",
       "  <thead>\n",
       "    <tr style=\"text-align: right;\">\n",
       "      <th></th>\n",
       "      <th>Random</th>\n",
       "      <th>Id</th>\n",
       "      <th>IPSI</th>\n",
       "      <th>Contra</th>\n",
       "    </tr>\n",
       "  </thead>\n",
       "  <tbody>\n",
       "    <tr>\n",
       "      <th>count</th>\n",
       "      <td>1520.000000</td>\n",
       "      <td>1520.000000</td>\n",
       "      <td>1516.000000</td>\n",
       "      <td>1519.000000</td>\n",
       "    </tr>\n",
       "    <tr>\n",
       "      <th>mean</th>\n",
       "      <td>0.509545</td>\n",
       "      <td>188365.022368</td>\n",
       "      <td>78.872032</td>\n",
       "      <td>56.828176</td>\n",
       "    </tr>\n",
       "    <tr>\n",
       "      <th>std</th>\n",
       "      <td>0.284006</td>\n",
       "      <td>64355.870242</td>\n",
       "      <td>10.162351</td>\n",
       "      <td>29.535671</td>\n",
       "    </tr>\n",
       "    <tr>\n",
       "      <th>min</th>\n",
       "      <td>0.000295</td>\n",
       "      <td>78261.000000</td>\n",
       "      <td>35.000000</td>\n",
       "      <td>10.000000</td>\n",
       "    </tr>\n",
       "    <tr>\n",
       "      <th>25%</th>\n",
       "      <td>0.268531</td>\n",
       "      <td>137130.750000</td>\n",
       "      <td>73.000000</td>\n",
       "      <td>30.000000</td>\n",
       "    </tr>\n",
       "    <tr>\n",
       "      <th>50%</th>\n",
       "      <td>0.517616</td>\n",
       "      <td>191344.500000</td>\n",
       "      <td>77.000000</td>\n",
       "      <td>50.000000</td>\n",
       "    </tr>\n",
       "    <tr>\n",
       "      <th>75%</th>\n",
       "      <td>0.754724</td>\n",
       "      <td>244559.500000</td>\n",
       "      <td>85.000000</td>\n",
       "      <td>85.000000</td>\n",
       "    </tr>\n",
       "    <tr>\n",
       "      <th>max</th>\n",
       "      <td>0.999448</td>\n",
       "      <td>295978.000000</td>\n",
       "      <td>99.000000</td>\n",
       "      <td>100.000000</td>\n",
       "    </tr>\n",
       "  </tbody>\n",
       "</table>\n",
       "</div>"
      ],
      "text/plain": [
       "            Random             Id         IPSI       Contra\n",
       "count  1520.000000    1520.000000  1516.000000  1519.000000\n",
       "mean      0.509545  188365.022368    78.872032    56.828176\n",
       "std       0.284006   64355.870242    10.162351    29.535671\n",
       "min       0.000295   78261.000000    35.000000    10.000000\n",
       "25%       0.268531  137130.750000    73.000000    30.000000\n",
       "50%       0.517616  191344.500000    77.000000    50.000000\n",
       "75%       0.754724  244559.500000    85.000000    85.000000\n",
       "max       0.999448  295978.000000    99.000000   100.000000"
      ]
     },
     "execution_count": 6,
     "metadata": {},
     "output_type": "execute_result"
    }
   ],
   "source": [
    "df_copy.describe()"
   ]
  },
  {
   "cell_type": "markdown",
   "metadata": {},
   "source": [
    "#### Checking for null values"
   ]
  },
  {
   "cell_type": "markdown",
   "metadata": {},
   "source": [
    "This is just a check whether there is any null values "
   ]
  },
  {
   "cell_type": "code",
   "execution_count": 7,
   "metadata": {},
   "outputs": [
    {
     "data": {
      "text/plain": [
       "True"
      ]
     },
     "execution_count": 7,
     "metadata": {},
     "output_type": "execute_result"
    }
   ],
   "source": [
    "df_copy.isnull().values.any() "
   ]
  },
  {
   "cell_type": "markdown",
   "metadata": {},
   "source": [
    "This returns a boolean value, and as shown, it is `true` there is null values\n"
   ]
  },
  {
   "cell_type": "markdown",
   "metadata": {},
   "source": [
    "**Where are the null values?**"
   ]
  },
  {
   "cell_type": "code",
   "execution_count": 8,
   "metadata": {},
   "outputs": [
    {
     "data": {
      "text/plain": [
       "Random          0\n",
       "Id              0\n",
       "Indication      3\n",
       "Diabetes        2\n",
       "IHD             0\n",
       "Hypertension    3\n",
       "Arrhythmia      0\n",
       "History         2\n",
       "IPSI            4\n",
       "Contra          1\n",
       "label           3\n",
       "dtype: int64"
      ]
     },
     "execution_count": 8,
     "metadata": {},
     "output_type": "execute_result"
    }
   ],
   "source": [
    "df_copy.isnull().sum()"
   ]
  },
  {
   "cell_type": "markdown",
   "metadata": {},
   "source": [
    "This shows the amount of null values each column has, therefore as decision could be made to either fill the values in or drop them entirely. \n",
    "\n",
    "As shown there is 18 NaN values."
   ]
  },
  {
   "cell_type": "markdown",
   "metadata": {},
   "source": [
    "#### Percentage of Null values "
   ]
  },
  {
   "cell_type": "code",
   "execution_count": 9,
   "metadata": {},
   "outputs": [
    {
     "data": {
      "text/plain": [
       "Random          0.000000\n",
       "Id              0.000000\n",
       "Indication      0.197368\n",
       "Diabetes        0.131579\n",
       "IHD             0.000000\n",
       "Hypertension    0.197368\n",
       "Arrhythmia      0.000000\n",
       "History         0.131579\n",
       "IPSI            0.263158\n",
       "Contra          0.065789\n",
       "label           0.197368\n",
       "dtype: float64"
      ]
     },
     "execution_count": 9,
     "metadata": {},
     "output_type": "execute_result"
    }
   ],
   "source": [
    "null_val_percent = df_copy.isnull().sum()/len(df_copy)*100\n",
    "\n",
    "null_val_percent"
   ]
  },
  {
   "cell_type": "markdown",
   "metadata": {},
   "source": [
    "As seen there is very similar percentage of null values distributed within the data set "
   ]
  },
  {
   "cell_type": "markdown",
   "metadata": {},
   "source": [
    "#### Context to null values"
   ]
  },
  {
   "cell_type": "markdown",
   "metadata": {},
   "source": [
    "#### Visualisation of Null value placements"
   ]
  },
  {
   "cell_type": "code",
   "execution_count": 10,
   "metadata": {},
   "outputs": [
    {
     "data": {
      "text/html": [
       "<div>\n",
       "<style scoped>\n",
       "    .dataframe tbody tr th:only-of-type {\n",
       "        vertical-align: middle;\n",
       "    }\n",
       "\n",
       "    .dataframe tbody tr th {\n",
       "        vertical-align: top;\n",
       "    }\n",
       "\n",
       "    .dataframe thead th {\n",
       "        text-align: right;\n",
       "    }\n",
       "</style>\n",
       "<table border=\"1\" class=\"dataframe\">\n",
       "  <thead>\n",
       "    <tr style=\"text-align: right;\">\n",
       "      <th></th>\n",
       "      <th>Random</th>\n",
       "      <th>Id</th>\n",
       "      <th>Indication</th>\n",
       "      <th>Diabetes</th>\n",
       "      <th>IHD</th>\n",
       "      <th>Hypertension</th>\n",
       "      <th>Arrhythmia</th>\n",
       "      <th>History</th>\n",
       "      <th>IPSI</th>\n",
       "      <th>Contra</th>\n",
       "      <th>label</th>\n",
       "    </tr>\n",
       "  </thead>\n",
       "  <tbody>\n",
       "    <tr>\n",
       "      <th>201</th>\n",
       "      <td>0.388790</td>\n",
       "      <td>240232</td>\n",
       "      <td>CVA</td>\n",
       "      <td>yes</td>\n",
       "      <td>no</td>\n",
       "      <td>NaN</td>\n",
       "      <td>yes</td>\n",
       "      <td>no</td>\n",
       "      <td>95.0</td>\n",
       "      <td>90.0</td>\n",
       "      <td>Risk</td>\n",
       "    </tr>\n",
       "    <tr>\n",
       "      <th>337</th>\n",
       "      <td>0.617072</td>\n",
       "      <td>260770</td>\n",
       "      <td>CVA</td>\n",
       "      <td>no</td>\n",
       "      <td>yes</td>\n",
       "      <td>no</td>\n",
       "      <td>no</td>\n",
       "      <td>NaN</td>\n",
       "      <td>85.0</td>\n",
       "      <td>50.0</td>\n",
       "      <td>NoRisk</td>\n",
       "    </tr>\n",
       "    <tr>\n",
       "      <th>442</th>\n",
       "      <td>0.648122</td>\n",
       "      <td>261060</td>\n",
       "      <td>NaN</td>\n",
       "      <td>no</td>\n",
       "      <td>yes</td>\n",
       "      <td>yes</td>\n",
       "      <td>no</td>\n",
       "      <td>no</td>\n",
       "      <td>70.0</td>\n",
       "      <td>40.0</td>\n",
       "      <td>NoRisk</td>\n",
       "    </tr>\n",
       "    <tr>\n",
       "      <th>447</th>\n",
       "      <td>0.681744</td>\n",
       "      <td>224257</td>\n",
       "      <td>CVA</td>\n",
       "      <td>NaN</td>\n",
       "      <td>yes</td>\n",
       "      <td>yes</td>\n",
       "      <td>yes</td>\n",
       "      <td>no</td>\n",
       "      <td>90.0</td>\n",
       "      <td>100.0</td>\n",
       "      <td>Risk</td>\n",
       "    </tr>\n",
       "    <tr>\n",
       "      <th>453</th>\n",
       "      <td>0.518558</td>\n",
       "      <td>254469</td>\n",
       "      <td>ASx</td>\n",
       "      <td>no</td>\n",
       "      <td>no</td>\n",
       "      <td>yes</td>\n",
       "      <td>no</td>\n",
       "      <td>no</td>\n",
       "      <td>70.0</td>\n",
       "      <td>NaN</td>\n",
       "      <td>NoRisk</td>\n",
       "    </tr>\n",
       "    <tr>\n",
       "      <th>514</th>\n",
       "      <td>0.392130</td>\n",
       "      <td>210861</td>\n",
       "      <td>A-F</td>\n",
       "      <td>NaN</td>\n",
       "      <td>no</td>\n",
       "      <td>yes</td>\n",
       "      <td>no</td>\n",
       "      <td>no</td>\n",
       "      <td>80.0</td>\n",
       "      <td>40.0</td>\n",
       "      <td>NoRisk</td>\n",
       "    </tr>\n",
       "    <tr>\n",
       "      <th>590</th>\n",
       "      <td>0.707950</td>\n",
       "      <td>289096</td>\n",
       "      <td>A-F</td>\n",
       "      <td>no</td>\n",
       "      <td>no</td>\n",
       "      <td>NaN</td>\n",
       "      <td>no</td>\n",
       "      <td>no</td>\n",
       "      <td>78.0</td>\n",
       "      <td>30.0</td>\n",
       "      <td>NoRisk</td>\n",
       "    </tr>\n",
       "    <tr>\n",
       "      <th>620</th>\n",
       "      <td>0.283872</td>\n",
       "      <td>227779</td>\n",
       "      <td>A-F</td>\n",
       "      <td>no</td>\n",
       "      <td>no</td>\n",
       "      <td>no</td>\n",
       "      <td>no</td>\n",
       "      <td>no</td>\n",
       "      <td>NaN</td>\n",
       "      <td>100.0</td>\n",
       "      <td>Risk</td>\n",
       "    </tr>\n",
       "    <tr>\n",
       "      <th>752</th>\n",
       "      <td>0.243518</td>\n",
       "      <td>146415</td>\n",
       "      <td>CVA</td>\n",
       "      <td>no</td>\n",
       "      <td>yes</td>\n",
       "      <td>yes</td>\n",
       "      <td>yes</td>\n",
       "      <td>no</td>\n",
       "      <td>NaN</td>\n",
       "      <td>100.0</td>\n",
       "      <td>Risk</td>\n",
       "    </tr>\n",
       "    <tr>\n",
       "      <th>784</th>\n",
       "      <td>0.243645</td>\n",
       "      <td>196483</td>\n",
       "      <td>CVA</td>\n",
       "      <td>no</td>\n",
       "      <td>no</td>\n",
       "      <td>yes</td>\n",
       "      <td>yes</td>\n",
       "      <td>NaN</td>\n",
       "      <td>95.0</td>\n",
       "      <td>100.0</td>\n",
       "      <td>Risk</td>\n",
       "    </tr>\n",
       "    <tr>\n",
       "      <th>812</th>\n",
       "      <td>0.756938</td>\n",
       "      <td>190671</td>\n",
       "      <td>CVA</td>\n",
       "      <td>no</td>\n",
       "      <td>yes</td>\n",
       "      <td>yes</td>\n",
       "      <td>no</td>\n",
       "      <td>no</td>\n",
       "      <td>76.0</td>\n",
       "      <td>50.0</td>\n",
       "      <td>NaN</td>\n",
       "    </tr>\n",
       "    <tr>\n",
       "      <th>822</th>\n",
       "      <td>0.211760</td>\n",
       "      <td>205845</td>\n",
       "      <td>NaN</td>\n",
       "      <td>no</td>\n",
       "      <td>yes</td>\n",
       "      <td>no</td>\n",
       "      <td>no</td>\n",
       "      <td>no</td>\n",
       "      <td>80.0</td>\n",
       "      <td>100.0</td>\n",
       "      <td>Risk</td>\n",
       "    </tr>\n",
       "    <tr>\n",
       "      <th>845</th>\n",
       "      <td>0.920096</td>\n",
       "      <td>104176</td>\n",
       "      <td>CVA</td>\n",
       "      <td>no</td>\n",
       "      <td>no</td>\n",
       "      <td>no</td>\n",
       "      <td>no</td>\n",
       "      <td>no</td>\n",
       "      <td>NaN</td>\n",
       "      <td>20.0</td>\n",
       "      <td>NoRisk</td>\n",
       "    </tr>\n",
       "    <tr>\n",
       "      <th>916</th>\n",
       "      <td>0.004501</td>\n",
       "      <td>281679</td>\n",
       "      <td>A-F</td>\n",
       "      <td>no</td>\n",
       "      <td>no</td>\n",
       "      <td>no</td>\n",
       "      <td>no</td>\n",
       "      <td>no</td>\n",
       "      <td>NaN</td>\n",
       "      <td>50.0</td>\n",
       "      <td>NoRisk</td>\n",
       "    </tr>\n",
       "    <tr>\n",
       "      <th>974</th>\n",
       "      <td>0.923418</td>\n",
       "      <td>165432</td>\n",
       "      <td>CVA</td>\n",
       "      <td>no</td>\n",
       "      <td>yes</td>\n",
       "      <td>yes</td>\n",
       "      <td>yes</td>\n",
       "      <td>no</td>\n",
       "      <td>80.0</td>\n",
       "      <td>70.0</td>\n",
       "      <td>NaN</td>\n",
       "    </tr>\n",
       "    <tr>\n",
       "      <th>983</th>\n",
       "      <td>0.319215</td>\n",
       "      <td>158024</td>\n",
       "      <td>TIA</td>\n",
       "      <td>no</td>\n",
       "      <td>no</td>\n",
       "      <td>NaN</td>\n",
       "      <td>no</td>\n",
       "      <td>no</td>\n",
       "      <td>75.0</td>\n",
       "      <td>75.0</td>\n",
       "      <td>NoRisk</td>\n",
       "    </tr>\n",
       "    <tr>\n",
       "      <th>1007</th>\n",
       "      <td>0.761219</td>\n",
       "      <td>256076</td>\n",
       "      <td>NaN</td>\n",
       "      <td>no</td>\n",
       "      <td>no</td>\n",
       "      <td>no</td>\n",
       "      <td>yes</td>\n",
       "      <td>yes</td>\n",
       "      <td>99.0</td>\n",
       "      <td>100.0</td>\n",
       "      <td>Risk</td>\n",
       "    </tr>\n",
       "    <tr>\n",
       "      <th>1418</th>\n",
       "      <td>0.813102</td>\n",
       "      <td>169726</td>\n",
       "      <td>TIA</td>\n",
       "      <td>yes</td>\n",
       "      <td>no</td>\n",
       "      <td>no</td>\n",
       "      <td>no</td>\n",
       "      <td>yes</td>\n",
       "      <td>90.0</td>\n",
       "      <td>50.0</td>\n",
       "      <td>NaN</td>\n",
       "    </tr>\n",
       "  </tbody>\n",
       "</table>\n",
       "</div>"
      ],
      "text/plain": [
       "        Random      Id Indication Diabetes  IHD Hypertension Arrhythmia  \\\n",
       "201   0.388790  240232        CVA      yes   no          NaN        yes   \n",
       "337   0.617072  260770        CVA       no  yes           no         no   \n",
       "442   0.648122  261060        NaN       no  yes          yes         no   \n",
       "447   0.681744  224257        CVA      NaN  yes          yes        yes   \n",
       "453   0.518558  254469        ASx       no   no          yes         no   \n",
       "514   0.392130  210861        A-F      NaN   no          yes         no   \n",
       "590   0.707950  289096        A-F       no   no          NaN         no   \n",
       "620   0.283872  227779        A-F       no   no           no         no   \n",
       "752   0.243518  146415        CVA       no  yes          yes        yes   \n",
       "784   0.243645  196483        CVA       no   no          yes        yes   \n",
       "812   0.756938  190671        CVA       no  yes          yes         no   \n",
       "822   0.211760  205845        NaN       no  yes           no         no   \n",
       "845   0.920096  104176        CVA       no   no           no         no   \n",
       "916   0.004501  281679        A-F       no   no           no         no   \n",
       "974   0.923418  165432        CVA       no  yes          yes        yes   \n",
       "983   0.319215  158024        TIA       no   no          NaN         no   \n",
       "1007  0.761219  256076        NaN       no   no           no        yes   \n",
       "1418  0.813102  169726        TIA      yes   no           no         no   \n",
       "\n",
       "     History  IPSI  Contra   label  \n",
       "201       no  95.0    90.0    Risk  \n",
       "337      NaN  85.0    50.0  NoRisk  \n",
       "442       no  70.0    40.0  NoRisk  \n",
       "447       no  90.0   100.0    Risk  \n",
       "453       no  70.0     NaN  NoRisk  \n",
       "514       no  80.0    40.0  NoRisk  \n",
       "590       no  78.0    30.0  NoRisk  \n",
       "620       no   NaN   100.0    Risk  \n",
       "752       no   NaN   100.0    Risk  \n",
       "784      NaN  95.0   100.0    Risk  \n",
       "812       no  76.0    50.0     NaN  \n",
       "822       no  80.0   100.0    Risk  \n",
       "845       no   NaN    20.0  NoRisk  \n",
       "916       no   NaN    50.0  NoRisk  \n",
       "974       no  80.0    70.0     NaN  \n",
       "983       no  75.0    75.0  NoRisk  \n",
       "1007     yes  99.0   100.0    Risk  \n",
       "1418     yes  90.0    50.0     NaN  "
      ]
     },
     "execution_count": 10,
     "metadata": {},
     "output_type": "execute_result"
    }
   ],
   "source": [
    "display_nulls = df_copy[df_copy.isna().any(axis=1)]\n",
    "\n",
    "display_nulls"
   ]
  },
  {
   "cell_type": "markdown",
   "metadata": {},
   "source": [
    "##### Heat map of null distribution throughout data "
   ]
  },
  {
   "cell_type": "code",
   "execution_count": 11,
   "metadata": {},
   "outputs": [
    {
     "data": {
      "text/plain": [
       "<matplotlib.axes._subplots.AxesSubplot at 0x7f2626cd3dd0>"
      ]
     },
     "execution_count": 11,
     "metadata": {},
     "output_type": "execute_result"
    },
    {
     "data": {
      "image/png": "[encoded data removed]",
      "text/plain": [
       "<Figure size 432x288 with 2 Axes>"
      ]
     },
     "metadata": {
      "needs_background": "light"
     },
     "output_type": "display_data"
    }
   ],
   "source": [
    "sns.heatmap(null_val_percent.to_frame())"
   ]
  },
  {
   "cell_type": "markdown",
   "metadata": {},
   "source": [
    "##### Pie chart of null values in percentages"
   ]
  },
  {
   "cell_type": "markdown",
   "metadata": {},
   "source": [
    "Here the heat map shows a distribution of null values in the columns"
   ]
  },
  {
   "cell_type": "code",
   "execution_count": 12,
   "metadata": {},
   "outputs": [
    {
     "data": {
      "image/png": "[encoded data removed]",
      "text/plain": [
       "<Figure size 432x288 with 1 Axes>"
      ]
     },
     "metadata": {},
     "output_type": "display_data"
    }
   ],
   "source": [
    "amount_of_nulls = df_copy.isnull().values.sum()\n",
    "amount_of_non_nulls = len(df_copy) - amount_of_nulls\n",
    "\n",
    "labels = 'Null Values', 'Non-Null Values'\n",
    "sizes = [amount_of_nulls, amount_of_non_nulls]\n",
    "cmap = plt.get_cmap('Spectral')\n",
    "colors = [cmap(i) for i in np.linspace(0, 1, 7)]\n",
    "\n",
    "patches, texts, autotexts = plt.pie(sizes, colors = colors, labels=labels, autopct='%1.1f%%', startangle=90)\n",
    "\n",
    "for text in texts:\n",
    "    text.set_color('grey')\n",
    "    \n",
    "for autotext in autotexts:\n",
    "    autotext.set_color('white')\n",
    "\n",
    "plt.axis(\"equal\")\n",
    "plt.tight_layout()\n",
    "plt.show()"
   ]
  },
  {
   "cell_type": "markdown",
   "metadata": {},
   "source": [
    "Only 1.2% of the data is null values as the pie chart shows. "
   ]
  },
  {
   "cell_type": "markdown",
   "metadata": {},
   "source": [
    "This shows all the null values within the data, this makes it useful to give context where the null values are relation to the data. \n",
    "\n",
    "**Now a decision can be made either to drop the values or fill them in.**"
   ]
  },
  {
   "cell_type": "markdown",
   "metadata": {},
   "source": [
    "As there is only 18 data entities that contain `NaN` values which makes up 1.2% of data set, filling in the data values with either a `fillna(ffill)` or `fillna(bfill` may skew any visualisation of the results or any models that will be made in the future, possibly incorrectly training the models. \n",
    "\n",
    "Along with this, the context of the data is whether a patient is at risk or not of death regarding all the possible health issues they may or may not have, which either a forward fill or backwards fill could incorrectly label them which would could cause issues later down the line, especially with training a model. \n",
    "\n",
    "Therefore, it will be better practise to drop the `NaN` values."
   ]
  },
  {
   "cell_type": "code",
   "execution_count": 13,
   "metadata": {},
   "outputs": [],
   "source": [
    "df_copy.dropna(inplace=True)"
   ]
  },
  {
   "cell_type": "markdown",
   "metadata": {},
   "source": [
    "**Checking if `NaN` values have been dropped**"
   ]
  },
  {
   "cell_type": "code",
   "execution_count": 14,
   "metadata": {},
   "outputs": [
    {
     "data": {
      "text/plain": [
       "Random          0\n",
       "Id              0\n",
       "Indication      0\n",
       "Diabetes        0\n",
       "IHD             0\n",
       "Hypertension    0\n",
       "Arrhythmia      0\n",
       "History         0\n",
       "IPSI            0\n",
       "Contra          0\n",
       "label           0\n",
       "dtype: int64"
      ]
     },
     "execution_count": 14,
     "metadata": {},
     "output_type": "execute_result"
    }
   ],
   "source": [
    "df_copy.isnull().sum()"
   ]
  },
  {
   "cell_type": "markdown",
   "metadata": {},
   "source": [
    "As we can see all the `NaN` values have been dropped, and progress can be made. "
   ]
  },
  {
   "cell_type": "markdown",
   "metadata": {},
   "source": [
    "#### Column Naming"
   ]
  },
  {
   "cell_type": "markdown",
   "metadata": {},
   "source": [
    "The column names such as label aren't very descriptive of the data the column contains, so it would be adviable to rename that column to something like `mortatliy`"
   ]
  },
  {
   "cell_type": "code",
   "execution_count": 15,
   "metadata": {},
   "outputs": [],
   "source": [
    "df_copy.rename(columns={'label': 'Mortality'}, inplace = True)"
   ]
  },
  {
   "cell_type": "code",
   "execution_count": 16,
   "metadata": {},
   "outputs": [
    {
     "data": {
      "text/plain": [
       "0       NoRisk\n",
       "1       NoRisk\n",
       "2         Risk\n",
       "3         Risk\n",
       "4       NoRisk\n",
       "         ...  \n",
       "1515    NoRisk\n",
       "1516      Risk\n",
       "1517    NoRisk\n",
       "1518    NoRisk\n",
       "1519    NoRisk\n",
       "Name: Mortality, Length: 1502, dtype: object"
      ]
     },
     "execution_count": 16,
     "metadata": {},
     "output_type": "execute_result"
    }
   ],
   "source": [
    "df_copy[\"Mortality\"]"
   ]
  },
  {
   "cell_type": "markdown",
   "metadata": {},
   "source": [
    "This column name now gives a somewhat accurate description of what is in the column."
   ]
  },
  {
   "cell_type": "markdown",
   "metadata": {},
   "source": [
    "#### Correcting Data types"
   ]
  },
  {
   "cell_type": "markdown",
   "metadata": {},
   "source": [
    "According to the briefing, not all these data types are correct. Such as `Contra` and `IPSI`, which must be converted into integers respectively."
   ]
  },
  {
   "cell_type": "markdown",
   "metadata": {},
   "source": [
    "First, its best to check the data types:"
   ]
  },
  {
   "cell_type": "code",
   "execution_count": 17,
   "metadata": {},
   "outputs": [
    {
     "name": "stdout",
     "output_type": "stream",
     "text": [
      "<class 'pandas.core.frame.DataFrame'>\n",
      "Int64Index: 1502 entries, 0 to 1519\n",
      "Data columns (total 11 columns):\n",
      "Random          1502 non-null float64\n",
      "Id              1502 non-null int64\n",
      "Indication      1502 non-null object\n",
      "Diabetes        1502 non-null object\n",
      "IHD             1502 non-null object\n",
      "Hypertension    1502 non-null object\n",
      "Arrhythmia      1502 non-null object\n",
      "History         1502 non-null object\n",
      "IPSI            1502 non-null float64\n",
      "Contra          1502 non-null float64\n",
      "Mortality       1502 non-null object\n",
      "dtypes: float64(3), int64(1), object(7)\n",
      "memory usage: 140.8+ KB\n"
     ]
    }
   ],
   "source": [
    "df_copy.info()"
   ]
  },
  {
   "cell_type": "markdown",
   "metadata": {},
   "source": [
    "It's not necessary for `IPSI` and `Contra` to be `Float64`, they are much better suited to be `Int64` instead."
   ]
  },
  {
   "cell_type": "code",
   "execution_count": 18,
   "metadata": {},
   "outputs": [],
   "source": [
    "df_copy[\"IPSI\"] = df_copy[\"IPSI\"].astype(np.int64)"
   ]
  },
  {
   "cell_type": "code",
   "execution_count": 19,
   "metadata": {},
   "outputs": [],
   "source": [
    "df_copy[\"Contra\"] = df_copy[\"Contra\"].astype(np.int64)"
   ]
  },
  {
   "cell_type": "markdown",
   "metadata": {},
   "source": [
    "Now to check if the conversion worked."
   ]
  },
  {
   "cell_type": "code",
   "execution_count": 20,
   "metadata": {},
   "outputs": [
    {
     "name": "stdout",
     "output_type": "stream",
     "text": [
      "<class 'pandas.core.frame.DataFrame'>\n",
      "Int64Index: 1502 entries, 0 to 1519\n",
      "Data columns (total 11 columns):\n",
      "Random          1502 non-null float64\n",
      "Id              1502 non-null int64\n",
      "Indication      1502 non-null object\n",
      "Diabetes        1502 non-null object\n",
      "IHD             1502 non-null object\n",
      "Hypertension    1502 non-null object\n",
      "Arrhythmia      1502 non-null object\n",
      "History         1502 non-null object\n",
      "IPSI            1502 non-null int64\n",
      "Contra          1502 non-null int64\n",
      "Mortality       1502 non-null object\n",
      "dtypes: float64(1), int64(3), object(7)\n",
      "memory usage: 140.8+ KB\n"
     ]
    }
   ],
   "source": [
    "df_copy.info()"
   ]
  },
  {
   "cell_type": "markdown",
   "metadata": {},
   "source": [
    "As shown the conversion worked."
   ]
  },
  {
   "cell_type": "markdown",
   "metadata": {},
   "source": [
    "#### Checking for incorrect values"
   ]
  },
  {
   "cell_type": "markdown",
   "metadata": {},
   "source": [
    "It's necessary to check whether there is valid data in the dataset, spelling mistakes, unknow values or incorrect datatypes can cause issues with further data manipulation."
   ]
  },
  {
   "cell_type": "markdown",
   "metadata": {},
   "source": [
    "**Checking columns for incorrect values**"
   ]
  },
  {
   "cell_type": "code",
   "execution_count": 21,
   "metadata": {},
   "outputs": [
    {
     "name": "stdout",
     "output_type": "stream",
     "text": [
      "Random\n",
      "0.683506    4\n",
      "0.506597    4\n",
      "0.576184    4\n",
      "0.899742    4\n",
      "0.803415    3\n",
      "           ..\n",
      "0.801775    1\n",
      "0.972183    1\n",
      "0.692722    1\n",
      "0.675468    1\n",
      "0.219026    1\n",
      "Name: Random, Length: 1211, dtype: int64 \n",
      "\n",
      "Id\n",
      "280575    1\n",
      "260803    1\n",
      "174778    1\n",
      "170683    1\n",
      "141608    1\n",
      "         ..\n",
      "157020    1\n",
      "259831    1\n",
      "163168    1\n",
      "215064    1\n",
      "221184    1\n",
      "Name: Id, Length: 1502, dtype: int64 \n",
      "\n",
      "Indication\n",
      "A-F    489\n",
      "CVA    408\n",
      "TIA    388\n",
      "ASx    185\n",
      "Asx     32\n",
      "Name: Indication, dtype: int64 \n",
      "\n",
      "Diabetes\n",
      "no     1427\n",
      "yes      75\n",
      "Name: Diabetes, dtype: int64 \n",
      "\n",
      "IHD\n",
      "no     790\n",
      "yes    712\n",
      "Name: IHD, dtype: int64 \n",
      "\n",
      "Hypertension\n",
      "no     777\n",
      "yes    725\n",
      "Name: Hypertension, dtype: int64 \n",
      "\n",
      "Arrhythmia\n",
      "no     1178\n",
      "yes     324\n",
      "Name: Arrhythmia, dtype: int64 \n",
      "\n",
      "History\n",
      "no     1480\n",
      "yes      22\n",
      "Name: History, dtype: int64 \n",
      "\n",
      "IPSI\n",
      "70    229\n",
      "75    221\n",
      "80    185\n",
      "90    173\n",
      "95    155\n",
      "73     83\n",
      "85     76\n",
      "76     74\n",
      "78     49\n",
      "68     32\n",
      "99     30\n",
      "60     29\n",
      "81     28\n",
      "82     25\n",
      "50     23\n",
      "65     14\n",
      "79     13\n",
      "71     13\n",
      "55      9\n",
      "77      9\n",
      "74      7\n",
      "51      7\n",
      "97      7\n",
      "69      3\n",
      "67      2\n",
      "84      2\n",
      "72      2\n",
      "98      1\n",
      "35      1\n",
      "Name: IPSI, dtype: int64 \n",
      "\n",
      "Contra\n",
      "100    277\n",
      "20     191\n",
      "50     182\n",
      "30     162\n",
      "40     108\n",
      "60      99\n",
      "75      60\n",
      "80      53\n",
      "70      52\n",
      "10      50\n",
      "90      44\n",
      "85      35\n",
      "95      32\n",
      "25      30\n",
      "35      27\n",
      "55      23\n",
      "15      18\n",
      "65      17\n",
      "51      11\n",
      "53       9\n",
      "73       7\n",
      "45       6\n",
      "16       4\n",
      "62       3\n",
      "79       2\n",
      "Name: Contra, dtype: int64 \n",
      "\n",
      "Mortality\n",
      "NoRisk     1000\n",
      "Risk        500\n",
      "Unknown       2\n",
      "Name: Mortality, dtype: int64 \n",
      "\n"
     ]
    }
   ],
   "source": [
    "for c in df_copy.columns: \n",
    "        print(df_copy[c].name)\n",
    "        print(df_copy[c].value_counts(), (\"\\n\"))"
   ]
  },
  {
   "cell_type": "markdown",
   "metadata": {},
   "source": [
    "As seen above, in the column `Indication` there is a possible spelling mistake, as there's `Asx` with 32 values, instead of `ASx` which has 185 values. As `ASx` has a high amount of values, its safe to presume that `Asx` is a miss-spelling and should be rectified. \n",
    "\n",
    "\n",
    "Also, in the column `label`, there is 2 `unknown` values. Which should be viewed and then either fixed or dropped."
   ]
  },
  {
   "cell_type": "code",
   "execution_count": 22,
   "metadata": {},
   "outputs": [],
   "source": [
    "df_copy[\"Indication\"] = df_copy[\"Indication\"].replace({'Asx':'ASx'})"
   ]
  },
  {
   "cell_type": "markdown",
   "metadata": {},
   "source": [
    "This replaces the miss-spelling with the correct spelling.\n",
    "\n",
    "Then to check if this has worked"
   ]
  },
  {
   "cell_type": "code",
   "execution_count": 23,
   "metadata": {},
   "outputs": [
    {
     "data": {
      "text/plain": [
       "A-F    489\n",
       "CVA    408\n",
       "TIA    388\n",
       "ASx    217\n",
       "Name: Indication, dtype: int64"
      ]
     },
     "execution_count": 23,
     "metadata": {},
     "output_type": "execute_result"
    }
   ],
   "source": [
    "df_copy[\"Indication\"].value_counts()"
   ]
  },
  {
   "cell_type": "markdown",
   "metadata": {},
   "source": [
    "Which is has, now the incorrect spelling has been rectifed."
   ]
  },
  {
   "cell_type": "markdown",
   "metadata": {},
   "source": [
    "**Moving onto the unknown values in `label`** "
   ]
  },
  {
   "cell_type": "code",
   "execution_count": 24,
   "metadata": {},
   "outputs": [
    {
     "data": {
      "text/html": [
       "<div>\n",
       "<style scoped>\n",
       "    .dataframe tbody tr th:only-of-type {\n",
       "        vertical-align: middle;\n",
       "    }\n",
       "\n",
       "    .dataframe tbody tr th {\n",
       "        vertical-align: top;\n",
       "    }\n",
       "\n",
       "    .dataframe thead th {\n",
       "        text-align: right;\n",
       "    }\n",
       "</style>\n",
       "<table border=\"1\" class=\"dataframe\">\n",
       "  <thead>\n",
       "    <tr style=\"text-align: right;\">\n",
       "      <th></th>\n",
       "      <th>Random</th>\n",
       "      <th>Id</th>\n",
       "      <th>Indication</th>\n",
       "      <th>Diabetes</th>\n",
       "      <th>IHD</th>\n",
       "      <th>Hypertension</th>\n",
       "      <th>Arrhythmia</th>\n",
       "      <th>History</th>\n",
       "      <th>IPSI</th>\n",
       "      <th>Contra</th>\n",
       "      <th>Mortality</th>\n",
       "    </tr>\n",
       "  </thead>\n",
       "  <tbody>\n",
       "    <tr>\n",
       "      <th>475</th>\n",
       "      <td>0.298074</td>\n",
       "      <td>173791</td>\n",
       "      <td>ASx</td>\n",
       "      <td>no</td>\n",
       "      <td>yes</td>\n",
       "      <td>yes</td>\n",
       "      <td>no</td>\n",
       "      <td>no</td>\n",
       "      <td>70</td>\n",
       "      <td>55</td>\n",
       "      <td>Unknown</td>\n",
       "    </tr>\n",
       "    <tr>\n",
       "      <th>523</th>\n",
       "      <td>0.460170</td>\n",
       "      <td>283846</td>\n",
       "      <td>CVA</td>\n",
       "      <td>no</td>\n",
       "      <td>no</td>\n",
       "      <td>yes</td>\n",
       "      <td>yes</td>\n",
       "      <td>no</td>\n",
       "      <td>95</td>\n",
       "      <td>100</td>\n",
       "      <td>Unknown</td>\n",
       "    </tr>\n",
       "  </tbody>\n",
       "</table>\n",
       "</div>"
      ],
      "text/plain": [
       "       Random      Id Indication Diabetes  IHD Hypertension Arrhythmia  \\\n",
       "475  0.298074  173791        ASx       no  yes          yes         no   \n",
       "523  0.460170  283846        CVA       no   no          yes        yes   \n",
       "\n",
       "    History  IPSI  Contra Mortality  \n",
       "475      no    70      55   Unknown  \n",
       "523      no    95     100   Unknown  "
      ]
     },
     "execution_count": 24,
     "metadata": {},
     "output_type": "execute_result"
    }
   ],
   "source": [
    "df_copy.loc[df_copy[\"Mortality\"] == \"Unknown\"]"
   ]
  },
  {
   "cell_type": "markdown",
   "metadata": {},
   "source": [
    "This shows that `Unknown` is a string value, therefore can just be dropped, as it provides incorrect data. "
   ]
  },
  {
   "cell_type": "code",
   "execution_count": 25,
   "metadata": {},
   "outputs": [],
   "source": [
    "unknown_index = df_copy[df_copy[\"Mortality\"] == \"Unknown\" ].index\n",
    "\n",
    "df_copy.drop(unknown_index , inplace=True)"
   ]
  },
  {
   "cell_type": "markdown",
   "metadata": {},
   "source": [
    "Now to check this"
   ]
  },
  {
   "cell_type": "code",
   "execution_count": 26,
   "metadata": {},
   "outputs": [
    {
     "data": {
      "text/plain": [
       "NoRisk    1000\n",
       "Risk       500\n",
       "Name: Mortality, dtype: int64"
      ]
     },
     "execution_count": 26,
     "metadata": {},
     "output_type": "execute_result"
    }
   ],
   "source": [
    "df_copy[\"Mortality\"].value_counts()"
   ]
  },
  {
   "cell_type": "markdown",
   "metadata": {},
   "source": [
    "As seen, there is no `Unknown` value any more"
   ]
  },
  {
   "cell_type": "markdown",
   "metadata": {},
   "source": [
    "#### Looking for duplicate values"
   ]
  },
  {
   "cell_type": "markdown",
   "metadata": {},
   "source": [
    "It's nescessary to find incorrect duplicate values, the only column that shouldn't have duplicated values is `Random`, we can also check if `Id` contains duplicates as the column allows them."
   ]
  },
  {
   "cell_type": "code",
   "execution_count": 27,
   "metadata": {},
   "outputs": [
    {
     "data": {
      "text/plain": [
       "True"
      ]
     },
     "execution_count": 27,
     "metadata": {},
     "output_type": "execute_result"
    }
   ],
   "source": [
    "df_copy[\"Random\"].duplicated().any()"
   ]
  },
  {
   "cell_type": "markdown",
   "metadata": {},
   "source": [
    "So there is duplicated values in `Random`"
   ]
  },
  {
   "cell_type": "code",
   "execution_count": 28,
   "metadata": {},
   "outputs": [
    {
     "data": {
      "text/plain": [
       "False"
      ]
     },
     "execution_count": 28,
     "metadata": {},
     "output_type": "execute_result"
    }
   ],
   "source": [
    "df_copy[\"Id\"].duplicated().values.any()"
   ]
  },
  {
   "cell_type": "markdown",
   "metadata": {},
   "source": [
    "And there are no duplicates in `Id`, this suggests that there was a error in naming the columns, or just incorrect data input. "
   ]
  },
  {
   "cell_type": "markdown",
   "metadata": {},
   "source": [
    "#### Visualising duplicates in `Random` column"
   ]
  },
  {
   "cell_type": "code",
   "execution_count": 29,
   "metadata": {},
   "outputs": [
    {
     "name": "stdout",
     "output_type": "stream",
     "text": [
      "Amount of duplicate values:  289\n",
      "Amount of unique values:  1211\n"
     ]
    },
    {
     "data": {
      "image/png": "[encoded data removed]",
      "text/plain": [
       "<Figure size 432x288 with 1 Axes>"
      ]
     },
     "metadata": {},
     "output_type": "display_data"
    }
   ],
   "source": [
    "amount_of_duplicates = df_copy[\"Random\"].duplicated().sum()\n",
    "print(\"Amount of duplicate values: \", amount_of_duplicates)\n",
    "\n",
    "amount_of_unique = len(df_copy) - amount_of_duplicates\n",
    "print(\"Amount of unique values: \", amount_of_unique)\n",
    "\n",
    "labels = 'Duplicated Values', 'Unique Values'\n",
    "sizes = [amount_of_duplicates, amount_of_unique]\n",
    "cmap = plt.get_cmap('Spectral')\n",
    "colors = [cmap(i) for i in np.linspace(0, 1, 7)]\n",
    "\n",
    "patches, texts, autotexts = plt.pie(sizes, colors = colors, labels=labels, autopct='%1.1f%%', startangle=90)\n",
    "\n",
    "for text in texts:\n",
    "    text.set_color('grey')\n",
    "    \n",
    "for autotext in autotexts:\n",
    "    autotext.set_color('white')\n",
    "\n",
    "plt.axis(\"equal\")\n",
    "plt.tight_layout()\n",
    "plt.show()"
   ]
  },
  {
   "cell_type": "markdown",
   "metadata": {},
   "source": [
    "Here we can see the distribution of duplicates in the `Random` column"
   ]
  },
  {
   "cell_type": "markdown",
   "metadata": {},
   "source": [
    "This shows a quite substaination amount of duplicates. There are two options, either just drop the column or drop the duplicate rows. \n",
    "\n",
    "As there could be model training with this dataset it makes more sense just to drop the column."
   ]
  },
  {
   "cell_type": "code",
   "execution_count": 30,
   "metadata": {},
   "outputs": [],
   "source": [
    "df_copy.drop(\"Random\", axis=1, inplace = True)"
   ]
  },
  {
   "cell_type": "markdown",
   "metadata": {},
   "source": [
    "Now to check if the drop has worked."
   ]
  },
  {
   "cell_type": "code",
   "execution_count": 31,
   "metadata": {},
   "outputs": [
    {
     "data": {
      "text/html": [
       "<div>\n",
       "<style scoped>\n",
       "    .dataframe tbody tr th:only-of-type {\n",
       "        vertical-align: middle;\n",
       "    }\n",
       "\n",
       "    .dataframe tbody tr th {\n",
       "        vertical-align: top;\n",
       "    }\n",
       "\n",
       "    .dataframe thead th {\n",
       "        text-align: right;\n",
       "    }\n",
       "</style>\n",
       "<table border=\"1\" class=\"dataframe\">\n",
       "  <thead>\n",
       "    <tr style=\"text-align: right;\">\n",
       "      <th></th>\n",
       "      <th>Id</th>\n",
       "      <th>Indication</th>\n",
       "      <th>Diabetes</th>\n",
       "      <th>IHD</th>\n",
       "      <th>Hypertension</th>\n",
       "      <th>Arrhythmia</th>\n",
       "      <th>History</th>\n",
       "      <th>IPSI</th>\n",
       "      <th>Contra</th>\n",
       "      <th>Mortality</th>\n",
       "    </tr>\n",
       "  </thead>\n",
       "  <tbody>\n",
       "    <tr>\n",
       "      <th>0</th>\n",
       "      <td>218242</td>\n",
       "      <td>A-F</td>\n",
       "      <td>no</td>\n",
       "      <td>no</td>\n",
       "      <td>yes</td>\n",
       "      <td>no</td>\n",
       "      <td>no</td>\n",
       "      <td>78</td>\n",
       "      <td>20</td>\n",
       "      <td>NoRisk</td>\n",
       "    </tr>\n",
       "    <tr>\n",
       "      <th>1</th>\n",
       "      <td>159284</td>\n",
       "      <td>TIA</td>\n",
       "      <td>no</td>\n",
       "      <td>no</td>\n",
       "      <td>no</td>\n",
       "      <td>no</td>\n",
       "      <td>no</td>\n",
       "      <td>70</td>\n",
       "      <td>60</td>\n",
       "      <td>NoRisk</td>\n",
       "    </tr>\n",
       "    <tr>\n",
       "      <th>2</th>\n",
       "      <td>106066</td>\n",
       "      <td>A-F</td>\n",
       "      <td>no</td>\n",
       "      <td>yes</td>\n",
       "      <td>yes</td>\n",
       "      <td>no</td>\n",
       "      <td>no</td>\n",
       "      <td>95</td>\n",
       "      <td>40</td>\n",
       "      <td>Risk</td>\n",
       "    </tr>\n",
       "    <tr>\n",
       "      <th>3</th>\n",
       "      <td>229592</td>\n",
       "      <td>TIA</td>\n",
       "      <td>no</td>\n",
       "      <td>no</td>\n",
       "      <td>yes</td>\n",
       "      <td>no</td>\n",
       "      <td>no</td>\n",
       "      <td>90</td>\n",
       "      <td>85</td>\n",
       "      <td>Risk</td>\n",
       "    </tr>\n",
       "    <tr>\n",
       "      <th>4</th>\n",
       "      <td>245829</td>\n",
       "      <td>CVA</td>\n",
       "      <td>no</td>\n",
       "      <td>no</td>\n",
       "      <td>no</td>\n",
       "      <td>no</td>\n",
       "      <td>no</td>\n",
       "      <td>70</td>\n",
       "      <td>20</td>\n",
       "      <td>NoRisk</td>\n",
       "    </tr>\n",
       "  </tbody>\n",
       "</table>\n",
       "</div>"
      ],
      "text/plain": [
       "       Id Indication Diabetes  IHD Hypertension Arrhythmia History  IPSI  \\\n",
       "0  218242        A-F       no   no          yes         no      no    78   \n",
       "1  159284        TIA       no   no           no         no      no    70   \n",
       "2  106066        A-F       no  yes          yes         no      no    95   \n",
       "3  229592        TIA       no   no          yes         no      no    90   \n",
       "4  245829        CVA       no   no           no         no      no    70   \n",
       "\n",
       "   Contra Mortality  \n",
       "0      20    NoRisk  \n",
       "1      60    NoRisk  \n",
       "2      40      Risk  \n",
       "3      85      Risk  \n",
       "4      20    NoRisk  "
      ]
     },
     "execution_count": 31,
     "metadata": {},
     "output_type": "execute_result"
    }
   ],
   "source": [
    "df_copy.head()"
   ]
  },
  {
   "cell_type": "markdown",
   "metadata": {},
   "source": [
    "As seen, it has worked fine."
   ]
  },
  {
   "cell_type": "markdown",
   "metadata": {},
   "source": [
    "#### Unnecessary columns"
   ]
  },
  {
   "cell_type": "markdown",
   "metadata": {},
   "source": [
    "Some of the columns are unnecessary for data analysis. One of these columns is `Id`, as it is unnecessary for an identifier for data analysis. \n",
    "\n",
    "The other identifier `Random` has already been dropped, so the only other identifer is `Id` as its not necessary, it can be dropped also. "
   ]
  },
  {
   "cell_type": "code",
   "execution_count": 32,
   "metadata": {},
   "outputs": [],
   "source": [
    "df_copy.drop(\"Id\", axis=1, inplace = True)"
   ]
  },
  {
   "cell_type": "markdown",
   "metadata": {},
   "source": [
    "Now to check if the drop has worked"
   ]
  },
  {
   "cell_type": "code",
   "execution_count": 33,
   "metadata": {},
   "outputs": [
    {
     "data": {
      "text/html": [
       "<div>\n",
       "<style scoped>\n",
       "    .dataframe tbody tr th:only-of-type {\n",
       "        vertical-align: middle;\n",
       "    }\n",
       "\n",
       "    .dataframe tbody tr th {\n",
       "        vertical-align: top;\n",
       "    }\n",
       "\n",
       "    .dataframe thead th {\n",
       "        text-align: right;\n",
       "    }\n",
       "</style>\n",
       "<table border=\"1\" class=\"dataframe\">\n",
       "  <thead>\n",
       "    <tr style=\"text-align: right;\">\n",
       "      <th></th>\n",
       "      <th>Indication</th>\n",
       "      <th>Diabetes</th>\n",
       "      <th>IHD</th>\n",
       "      <th>Hypertension</th>\n",
       "      <th>Arrhythmia</th>\n",
       "      <th>History</th>\n",
       "      <th>IPSI</th>\n",
       "      <th>Contra</th>\n",
       "      <th>Mortality</th>\n",
       "    </tr>\n",
       "  </thead>\n",
       "  <tbody>\n",
       "    <tr>\n",
       "      <th>0</th>\n",
       "      <td>A-F</td>\n",
       "      <td>no</td>\n",
       "      <td>no</td>\n",
       "      <td>yes</td>\n",
       "      <td>no</td>\n",
       "      <td>no</td>\n",
       "      <td>78</td>\n",
       "      <td>20</td>\n",
       "      <td>NoRisk</td>\n",
       "    </tr>\n",
       "    <tr>\n",
       "      <th>1</th>\n",
       "      <td>TIA</td>\n",
       "      <td>no</td>\n",
       "      <td>no</td>\n",
       "      <td>no</td>\n",
       "      <td>no</td>\n",
       "      <td>no</td>\n",
       "      <td>70</td>\n",
       "      <td>60</td>\n",
       "      <td>NoRisk</td>\n",
       "    </tr>\n",
       "    <tr>\n",
       "      <th>2</th>\n",
       "      <td>A-F</td>\n",
       "      <td>no</td>\n",
       "      <td>yes</td>\n",
       "      <td>yes</td>\n",
       "      <td>no</td>\n",
       "      <td>no</td>\n",
       "      <td>95</td>\n",
       "      <td>40</td>\n",
       "      <td>Risk</td>\n",
       "    </tr>\n",
       "    <tr>\n",
       "      <th>3</th>\n",
       "      <td>TIA</td>\n",
       "      <td>no</td>\n",
       "      <td>no</td>\n",
       "      <td>yes</td>\n",
       "      <td>no</td>\n",
       "      <td>no</td>\n",
       "      <td>90</td>\n",
       "      <td>85</td>\n",
       "      <td>Risk</td>\n",
       "    </tr>\n",
       "    <tr>\n",
       "      <th>4</th>\n",
       "      <td>CVA</td>\n",
       "      <td>no</td>\n",
       "      <td>no</td>\n",
       "      <td>no</td>\n",
       "      <td>no</td>\n",
       "      <td>no</td>\n",
       "      <td>70</td>\n",
       "      <td>20</td>\n",
       "      <td>NoRisk</td>\n",
       "    </tr>\n",
       "  </tbody>\n",
       "</table>\n",
       "</div>"
      ],
      "text/plain": [
       "  Indication Diabetes  IHD Hypertension Arrhythmia History  IPSI  Contra  \\\n",
       "0        A-F       no   no          yes         no      no    78      20   \n",
       "1        TIA       no   no           no         no      no    70      60   \n",
       "2        A-F       no  yes          yes         no      no    95      40   \n",
       "3        TIA       no   no          yes         no      no    90      85   \n",
       "4        CVA       no   no           no         no      no    70      20   \n",
       "\n",
       "  Mortality  \n",
       "0    NoRisk  \n",
       "1    NoRisk  \n",
       "2      Risk  \n",
       "3      Risk  \n",
       "4    NoRisk  "
      ]
     },
     "execution_count": 33,
     "metadata": {},
     "output_type": "execute_result"
    }
   ],
   "source": [
    "df_copy.head()"
   ]
  },
  {
   "cell_type": "markdown",
   "metadata": {},
   "source": [
    "Which it has."
   ]
  },
  {
   "cell_type": "markdown",
   "metadata": {},
   "source": [
    "#### Mapping Columns to Integer Values"
   ]
  },
  {
   "cell_type": "code",
   "execution_count": 34,
   "metadata": {},
   "outputs": [],
   "source": [
    "df_copy[\"Indication\"] = df_copy[\"Indication\"].map({\"A-F\": \"0\", \"TIA\":\"1\", \"CVA\": \"2\", \"ASx\": \"3\"})\n",
    "\n",
    "df_copy[\"Diabetes\"] = df_copy[\"Diabetes\"].map({\"no\":\"0\", \"yes\":\"1\"})\n",
    "\n",
    "df_copy[\"IHD\"] = df_copy[\"IHD\"].map({\"no\":\"0\", \"yes\":\"1\"})\n",
    "\n",
    "df_copy[\"Hypertension\"] = df_copy[\"Hypertension\"].map({\"no\":\"0\", \"yes\":\"1\"})\n",
    "\n",
    "df_copy[\"Arrhythmia\"] = df_copy[\"Arrhythmia\"].map({\"no\":\"0\", \"yes\":\"1\"})\n",
    "\n",
    "df_copy[\"History\"] = df_copy[\"History\"].map({\"no\":\"0\", \"yes\":\"1\"})\n",
    "\n",
    "df_copy[\"Mortality\"] = df_copy[\"Mortality\"].map({\"NoRisk\":\"0\", \"Risk\":\"1\"})"
   ]
  },
  {
   "cell_type": "markdown",
   "metadata": {},
   "source": [
    "So this replaces, or in this case maps the yes or no (and risk, no risk) to integer values. This quanifies the number of states the columns contain, such as yes or no, or risk, norisk ect. \n",
    "\n",
    "Also it allows the data to be visualised and modelled. For example `.corr()` only allows for numerical values, non-numerical values are ignored. Same with modeling. "
   ]
  },
  {
   "cell_type": "code",
   "execution_count": 35,
   "metadata": {},
   "outputs": [
    {
     "data": {
      "text/html": [
       "<div>\n",
       "<style scoped>\n",
       "    .dataframe tbody tr th:only-of-type {\n",
       "        vertical-align: middle;\n",
       "    }\n",
       "\n",
       "    .dataframe tbody tr th {\n",
       "        vertical-align: top;\n",
       "    }\n",
       "\n",
       "    .dataframe thead th {\n",
       "        text-align: right;\n",
       "    }\n",
       "</style>\n",
       "<table border=\"1\" class=\"dataframe\">\n",
       "  <thead>\n",
       "    <tr style=\"text-align: right;\">\n",
       "      <th></th>\n",
       "      <th>Indication</th>\n",
       "      <th>Diabetes</th>\n",
       "      <th>IHD</th>\n",
       "      <th>Hypertension</th>\n",
       "      <th>Arrhythmia</th>\n",
       "      <th>History</th>\n",
       "      <th>IPSI</th>\n",
       "      <th>Contra</th>\n",
       "      <th>Mortality</th>\n",
       "    </tr>\n",
       "  </thead>\n",
       "  <tbody>\n",
       "    <tr>\n",
       "      <th>0</th>\n",
       "      <td>0</td>\n",
       "      <td>0</td>\n",
       "      <td>0</td>\n",
       "      <td>1</td>\n",
       "      <td>0</td>\n",
       "      <td>0</td>\n",
       "      <td>78</td>\n",
       "      <td>20</td>\n",
       "      <td>0</td>\n",
       "    </tr>\n",
       "    <tr>\n",
       "      <th>1</th>\n",
       "      <td>1</td>\n",
       "      <td>0</td>\n",
       "      <td>0</td>\n",
       "      <td>0</td>\n",
       "      <td>0</td>\n",
       "      <td>0</td>\n",
       "      <td>70</td>\n",
       "      <td>60</td>\n",
       "      <td>0</td>\n",
       "    </tr>\n",
       "    <tr>\n",
       "      <th>2</th>\n",
       "      <td>0</td>\n",
       "      <td>0</td>\n",
       "      <td>1</td>\n",
       "      <td>1</td>\n",
       "      <td>0</td>\n",
       "      <td>0</td>\n",
       "      <td>95</td>\n",
       "      <td>40</td>\n",
       "      <td>1</td>\n",
       "    </tr>\n",
       "    <tr>\n",
       "      <th>3</th>\n",
       "      <td>1</td>\n",
       "      <td>0</td>\n",
       "      <td>0</td>\n",
       "      <td>1</td>\n",
       "      <td>0</td>\n",
       "      <td>0</td>\n",
       "      <td>90</td>\n",
       "      <td>85</td>\n",
       "      <td>1</td>\n",
       "    </tr>\n",
       "    <tr>\n",
       "      <th>4</th>\n",
       "      <td>2</td>\n",
       "      <td>0</td>\n",
       "      <td>0</td>\n",
       "      <td>0</td>\n",
       "      <td>0</td>\n",
       "      <td>0</td>\n",
       "      <td>70</td>\n",
       "      <td>20</td>\n",
       "      <td>0</td>\n",
       "    </tr>\n",
       "    <tr>\n",
       "      <th>...</th>\n",
       "      <td>...</td>\n",
       "      <td>...</td>\n",
       "      <td>...</td>\n",
       "      <td>...</td>\n",
       "      <td>...</td>\n",
       "      <td>...</td>\n",
       "      <td>...</td>\n",
       "      <td>...</td>\n",
       "      <td>...</td>\n",
       "    </tr>\n",
       "    <tr>\n",
       "      <th>1515</th>\n",
       "      <td>0</td>\n",
       "      <td>0</td>\n",
       "      <td>1</td>\n",
       "      <td>0</td>\n",
       "      <td>0</td>\n",
       "      <td>0</td>\n",
       "      <td>76</td>\n",
       "      <td>60</td>\n",
       "      <td>0</td>\n",
       "    </tr>\n",
       "    <tr>\n",
       "      <th>1516</th>\n",
       "      <td>0</td>\n",
       "      <td>0</td>\n",
       "      <td>0</td>\n",
       "      <td>1</td>\n",
       "      <td>1</td>\n",
       "      <td>0</td>\n",
       "      <td>90</td>\n",
       "      <td>75</td>\n",
       "      <td>1</td>\n",
       "    </tr>\n",
       "    <tr>\n",
       "      <th>1517</th>\n",
       "      <td>1</td>\n",
       "      <td>0</td>\n",
       "      <td>0</td>\n",
       "      <td>1</td>\n",
       "      <td>0</td>\n",
       "      <td>0</td>\n",
       "      <td>75</td>\n",
       "      <td>20</td>\n",
       "      <td>0</td>\n",
       "    </tr>\n",
       "    <tr>\n",
       "      <th>1518</th>\n",
       "      <td>0</td>\n",
       "      <td>0</td>\n",
       "      <td>1</td>\n",
       "      <td>0</td>\n",
       "      <td>0</td>\n",
       "      <td>0</td>\n",
       "      <td>70</td>\n",
       "      <td>45</td>\n",
       "      <td>0</td>\n",
       "    </tr>\n",
       "    <tr>\n",
       "      <th>1519</th>\n",
       "      <td>2</td>\n",
       "      <td>0</td>\n",
       "      <td>0</td>\n",
       "      <td>0</td>\n",
       "      <td>0</td>\n",
       "      <td>0</td>\n",
       "      <td>60</td>\n",
       "      <td>20</td>\n",
       "      <td>0</td>\n",
       "    </tr>\n",
       "  </tbody>\n",
       "</table>\n",
       "<p>1500 rows × 9 columns</p>\n",
       "</div>"
      ],
      "text/plain": [
       "     Indication Diabetes IHD Hypertension Arrhythmia History  IPSI  Contra  \\\n",
       "0             0        0   0            1          0       0    78      20   \n",
       "1             1        0   0            0          0       0    70      60   \n",
       "2             0        0   1            1          0       0    95      40   \n",
       "3             1        0   0            1          0       0    90      85   \n",
       "4             2        0   0            0          0       0    70      20   \n",
       "...         ...      ...  ..          ...        ...     ...   ...     ...   \n",
       "1515          0        0   1            0          0       0    76      60   \n",
       "1516          0        0   0            1          1       0    90      75   \n",
       "1517          1        0   0            1          0       0    75      20   \n",
       "1518          0        0   1            0          0       0    70      45   \n",
       "1519          2        0   0            0          0       0    60      20   \n",
       "\n",
       "     Mortality  \n",
       "0            0  \n",
       "1            0  \n",
       "2            1  \n",
       "3            1  \n",
       "4            0  \n",
       "...        ...  \n",
       "1515         0  \n",
       "1516         1  \n",
       "1517         0  \n",
       "1518         0  \n",
       "1519         0  \n",
       "\n",
       "[1500 rows x 9 columns]"
      ]
     },
     "execution_count": 35,
     "metadata": {},
     "output_type": "execute_result"
    }
   ],
   "source": [
    "df_copy"
   ]
  },
  {
   "cell_type": "code",
   "execution_count": 36,
   "metadata": {},
   "outputs": [
    {
     "name": "stdout",
     "output_type": "stream",
     "text": [
      "Indication\n",
      "0    489\n",
      "2    407\n",
      "1    388\n",
      "3    216\n",
      "Name: Indication, dtype: int64 \n",
      "\n",
      "Diabetes\n",
      "0    1425\n",
      "1      75\n",
      "Name: Diabetes, dtype: int64 \n",
      "\n",
      "IHD\n",
      "0    789\n",
      "1    711\n",
      "Name: IHD, dtype: int64 \n",
      "\n",
      "Hypertension\n",
      "0    777\n",
      "1    723\n",
      "Name: Hypertension, dtype: int64 \n",
      "\n",
      "Arrhythmia\n",
      "0    1177\n",
      "1     323\n",
      "Name: Arrhythmia, dtype: int64 \n",
      "\n",
      "History\n",
      "0    1478\n",
      "1      22\n",
      "Name: History, dtype: int64 \n",
      "\n",
      "IPSI\n",
      "70    228\n",
      "75    221\n",
      "80    185\n",
      "90    173\n",
      "95    154\n",
      "73     83\n",
      "85     76\n",
      "76     74\n",
      "78     49\n",
      "68     32\n",
      "99     30\n",
      "60     29\n",
      "81     28\n",
      "82     25\n",
      "50     23\n",
      "65     14\n",
      "79     13\n",
      "71     13\n",
      "55      9\n",
      "77      9\n",
      "74      7\n",
      "51      7\n",
      "97      7\n",
      "69      3\n",
      "67      2\n",
      "84      2\n",
      "72      2\n",
      "98      1\n",
      "35      1\n",
      "Name: IPSI, dtype: int64 \n",
      "\n",
      "Contra\n",
      "100    276\n",
      "20     191\n",
      "50     182\n",
      "30     162\n",
      "40     108\n",
      "60      99\n",
      "75      60\n",
      "80      53\n",
      "70      52\n",
      "10      50\n",
      "90      44\n",
      "85      35\n",
      "95      32\n",
      "25      30\n",
      "35      27\n",
      "55      22\n",
      "15      18\n",
      "65      17\n",
      "51      11\n",
      "53       9\n",
      "73       7\n",
      "45       6\n",
      "16       4\n",
      "62       3\n",
      "79       2\n",
      "Name: Contra, dtype: int64 \n",
      "\n",
      "Mortality\n",
      "0    1000\n",
      "1     500\n",
      "Name: Mortality, dtype: int64 \n",
      "\n"
     ]
    }
   ],
   "source": [
    "for c in df_copy.columns: \n",
    "        print(df_copy[c].name)\n",
    "        print(df_copy[c].value_counts(), (\"\\n\"))"
   ]
  },
  {
   "cell_type": "markdown",
   "metadata": {},
   "source": [
    "This shows that all values have been converted into integers and there are no issues with the mapping such as spaces in the values."
   ]
  },
  {
   "cell_type": "code",
   "execution_count": 37,
   "metadata": {},
   "outputs": [
    {
     "data": {
      "text/html": [
       "<div>\n",
       "<style scoped>\n",
       "    .dataframe tbody tr th:only-of-type {\n",
       "        vertical-align: middle;\n",
       "    }\n",
       "\n",
       "    .dataframe tbody tr th {\n",
       "        vertical-align: top;\n",
       "    }\n",
       "\n",
       "    .dataframe thead th {\n",
       "        text-align: right;\n",
       "    }\n",
       "</style>\n",
       "<table border=\"1\" class=\"dataframe\">\n",
       "  <thead>\n",
       "    <tr style=\"text-align: right;\">\n",
       "      <th></th>\n",
       "      <th>IPSI</th>\n",
       "      <th>Contra</th>\n",
       "    </tr>\n",
       "  </thead>\n",
       "  <tbody>\n",
       "    <tr>\n",
       "      <th>IPSI</th>\n",
       "      <td>1.000000</td>\n",
       "      <td>0.317034</td>\n",
       "    </tr>\n",
       "    <tr>\n",
       "      <th>Contra</th>\n",
       "      <td>0.317034</td>\n",
       "      <td>1.000000</td>\n",
       "    </tr>\n",
       "  </tbody>\n",
       "</table>\n",
       "</div>"
      ],
      "text/plain": [
       "            IPSI    Contra\n",
       "IPSI    1.000000  0.317034\n",
       "Contra  0.317034  1.000000"
      ]
     },
     "execution_count": 37,
     "metadata": {},
     "output_type": "execute_result"
    }
   ],
   "source": [
    "df_copy.corr()"
   ]
  },
  {
   "cell_type": "markdown",
   "metadata": {},
   "source": [
    "As `.corr()` only takes numerical values, it has only picked up on the correlations between `IPSI` and `Contra`. Although mapping `yes`, `no`, `risk` and `no risk` to integer values, they are still stored as a object (string value) therefore are ignored. So they must be converted into integer values."
   ]
  },
  {
   "cell_type": "code",
   "execution_count": 38,
   "metadata": {},
   "outputs": [
    {
     "name": "stdout",
     "output_type": "stream",
     "text": [
      "<class 'pandas.core.frame.DataFrame'>\n",
      "Int64Index: 1500 entries, 0 to 1519\n",
      "Data columns (total 9 columns):\n",
      "Indication      1500 non-null int64\n",
      "Diabetes        1500 non-null int64\n",
      "IHD             1500 non-null int64\n",
      "Hypertension    1500 non-null int64\n",
      "Arrhythmia      1500 non-null int64\n",
      "History         1500 non-null int64\n",
      "IPSI            1500 non-null int64\n",
      "Contra          1500 non-null int64\n",
      "Mortality       1500 non-null int64\n",
      "dtypes: int64(9)\n",
      "memory usage: 117.2 KB\n"
     ]
    }
   ],
   "source": [
    "df_copy = df_copy.astype(np.int64)\n",
    "\n",
    "df_copy.info()"
   ]
  },
  {
   "cell_type": "markdown",
   "metadata": {},
   "source": [
    "All of the data is converted into `int64` "
   ]
  },
  {
   "cell_type": "code",
   "execution_count": 39,
   "metadata": {},
   "outputs": [
    {
     "data": {
      "text/html": [
       "<div>\n",
       "<style scoped>\n",
       "    .dataframe tbody tr th:only-of-type {\n",
       "        vertical-align: middle;\n",
       "    }\n",
       "\n",
       "    .dataframe tbody tr th {\n",
       "        vertical-align: top;\n",
       "    }\n",
       "\n",
       "    .dataframe thead th {\n",
       "        text-align: right;\n",
       "    }\n",
       "</style>\n",
       "<table border=\"1\" class=\"dataframe\">\n",
       "  <thead>\n",
       "    <tr style=\"text-align: right;\">\n",
       "      <th></th>\n",
       "      <th>Indication</th>\n",
       "      <th>Diabetes</th>\n",
       "      <th>IHD</th>\n",
       "      <th>Hypertension</th>\n",
       "      <th>Arrhythmia</th>\n",
       "      <th>History</th>\n",
       "      <th>IPSI</th>\n",
       "      <th>Contra</th>\n",
       "      <th>Mortality</th>\n",
       "    </tr>\n",
       "  </thead>\n",
       "  <tbody>\n",
       "    <tr>\n",
       "      <th>Indication</th>\n",
       "      <td>1.000000</td>\n",
       "      <td>0.007230</td>\n",
       "      <td>-0.011234</td>\n",
       "      <td>0.118943</td>\n",
       "      <td>0.100633</td>\n",
       "      <td>-0.005942</td>\n",
       "      <td>-0.035732</td>\n",
       "      <td>0.038291</td>\n",
       "      <td>0.025848</td>\n",
       "    </tr>\n",
       "    <tr>\n",
       "      <th>Diabetes</th>\n",
       "      <td>0.007230</td>\n",
       "      <td>1.000000</td>\n",
       "      <td>0.064017</td>\n",
       "      <td>0.164368</td>\n",
       "      <td>0.095624</td>\n",
       "      <td>-0.002545</td>\n",
       "      <td>0.158694</td>\n",
       "      <td>0.188610</td>\n",
       "      <td>0.285510</td>\n",
       "    </tr>\n",
       "    <tr>\n",
       "      <th>IHD</th>\n",
       "      <td>-0.011234</td>\n",
       "      <td>0.064017</td>\n",
       "      <td>1.000000</td>\n",
       "      <td>0.137069</td>\n",
       "      <td>0.168570</td>\n",
       "      <td>-0.071391</td>\n",
       "      <td>0.090221</td>\n",
       "      <td>0.113951</td>\n",
       "      <td>0.252071</td>\n",
       "    </tr>\n",
       "    <tr>\n",
       "      <th>Hypertension</th>\n",
       "      <td>0.118943</td>\n",
       "      <td>0.164368</td>\n",
       "      <td>0.137069</td>\n",
       "      <td>1.000000</td>\n",
       "      <td>0.289896</td>\n",
       "      <td>-0.073294</td>\n",
       "      <td>0.089246</td>\n",
       "      <td>0.113192</td>\n",
       "      <td>0.387746</td>\n",
       "    </tr>\n",
       "    <tr>\n",
       "      <th>Arrhythmia</th>\n",
       "      <td>0.100633</td>\n",
       "      <td>0.095624</td>\n",
       "      <td>0.168570</td>\n",
       "      <td>0.289896</td>\n",
       "      <td>1.000000</td>\n",
       "      <td>0.003544</td>\n",
       "      <td>0.391332</td>\n",
       "      <td>0.496099</td>\n",
       "      <td>0.706442</td>\n",
       "    </tr>\n",
       "    <tr>\n",
       "      <th>History</th>\n",
       "      <td>-0.005942</td>\n",
       "      <td>-0.002545</td>\n",
       "      <td>-0.071391</td>\n",
       "      <td>-0.073294</td>\n",
       "      <td>0.003544</td>\n",
       "      <td>1.000000</td>\n",
       "      <td>-0.000118</td>\n",
       "      <td>0.103961</td>\n",
       "      <td>-0.003921</td>\n",
       "    </tr>\n",
       "    <tr>\n",
       "      <th>IPSI</th>\n",
       "      <td>-0.035732</td>\n",
       "      <td>0.158694</td>\n",
       "      <td>0.090221</td>\n",
       "      <td>0.089246</td>\n",
       "      <td>0.391332</td>\n",
       "      <td>-0.000118</td>\n",
       "      <td>1.000000</td>\n",
       "      <td>0.317034</td>\n",
       "      <td>0.490566</td>\n",
       "    </tr>\n",
       "    <tr>\n",
       "      <th>Contra</th>\n",
       "      <td>0.038291</td>\n",
       "      <td>0.188610</td>\n",
       "      <td>0.113951</td>\n",
       "      <td>0.113192</td>\n",
       "      <td>0.496099</td>\n",
       "      <td>0.103961</td>\n",
       "      <td>0.317034</td>\n",
       "      <td>1.000000</td>\n",
       "      <td>0.649821</td>\n",
       "    </tr>\n",
       "    <tr>\n",
       "      <th>Mortality</th>\n",
       "      <td>0.025848</td>\n",
       "      <td>0.285510</td>\n",
       "      <td>0.252071</td>\n",
       "      <td>0.387746</td>\n",
       "      <td>0.706442</td>\n",
       "      <td>-0.003921</td>\n",
       "      <td>0.490566</td>\n",
       "      <td>0.649821</td>\n",
       "      <td>1.000000</td>\n",
       "    </tr>\n",
       "  </tbody>\n",
       "</table>\n",
       "</div>"
      ],
      "text/plain": [
       "              Indication  Diabetes       IHD  Hypertension  Arrhythmia  \\\n",
       "Indication      1.000000  0.007230 -0.011234      0.118943    0.100633   \n",
       "Diabetes        0.007230  1.000000  0.064017      0.164368    0.095624   \n",
       "IHD            -0.011234  0.064017  1.000000      0.137069    0.168570   \n",
       "Hypertension    0.118943  0.164368  0.137069      1.000000    0.289896   \n",
       "Arrhythmia      0.100633  0.095624  0.168570      0.289896    1.000000   \n",
       "History        -0.005942 -0.002545 -0.071391     -0.073294    0.003544   \n",
       "IPSI           -0.035732  0.158694  0.090221      0.089246    0.391332   \n",
       "Contra          0.038291  0.188610  0.113951      0.113192    0.496099   \n",
       "Mortality       0.025848  0.285510  0.252071      0.387746    0.706442   \n",
       "\n",
       "               History      IPSI    Contra  Mortality  \n",
       "Indication   -0.005942 -0.035732  0.038291   0.025848  \n",
       "Diabetes     -0.002545  0.158694  0.188610   0.285510  \n",
       "IHD          -0.071391  0.090221  0.113951   0.252071  \n",
       "Hypertension -0.073294  0.089246  0.113192   0.387746  \n",
       "Arrhythmia    0.003544  0.391332  0.496099   0.706442  \n",
       "History       1.000000 -0.000118  0.103961  -0.003921  \n",
       "IPSI         -0.000118  1.000000  0.317034   0.490566  \n",
       "Contra        0.103961  0.317034  1.000000   0.649821  \n",
       "Mortality    -0.003921  0.490566  0.649821   1.000000  "
      ]
     },
     "execution_count": 39,
     "metadata": {},
     "output_type": "execute_result"
    }
   ],
   "source": [
    "correlations = df_copy.corr()\n",
    "correlations"
   ]
  },
  {
   "cell_type": "markdown",
   "metadata": {},
   "source": [
    "## TODO : EXPLAIN THIS TABLE"
   ]
  },
  {
   "cell_type": "code",
   "execution_count": 40,
   "metadata": {},
   "outputs": [
    {
     "data": {
      "image/png": "[encoded data removed]",
      "text/plain": [
       "<Figure size 720x720 with 2 Axes>"
      ]
     },
     "metadata": {
      "needs_background": "light"
     },
     "output_type": "display_data"
    }
   ],
   "source": [
    "fig,ax = plt.subplots(figsize=(10,10))\n",
    "sns.heatmap(correlations, annot=True)\n",
    "fig.savefig(\"heatmap.png\")"
   ]
  },
  {
   "cell_type": "markdown",
   "metadata": {},
   "source": [
    "## TODO : WRITE SOMETHING MEANINGFUL ABOUT THIS HEATMAP!"
   ]
  },
  {
   "cell_type": "code",
   "execution_count": 41,
   "metadata": {},
   "outputs": [
    {
     "data": {
      "text/plain": [
       "<seaborn.axisgrid.PairGrid at 0x7f2673989c90>"
      ]
     },
     "execution_count": 41,
     "metadata": {},
     "output_type": "execute_result"
    },
    {
     "data": {
      "image/png": "[encoded data removed]",
      "text/plain": [
       "<Figure size 412.25x360 with 6 Axes>"
      ]
     },
     "metadata": {
      "needs_background": "light"
     },
     "output_type": "display_data"
    }
   ],
   "source": [
    "sns.pairplot(df_copy, vars=[\"Contra\", \"IPSI\"], hue=\"Mortality\", palette=\"husl\")"
   ]
  },
  {
   "cell_type": "markdown",
   "metadata": {},
   "source": [
    "<center> <h2> Data Modeling </h2> </center>"
   ]
  },
  {
   "cell_type": "markdown",
   "metadata": {},
   "source": [
    "Splitting data into test and train dataframes"
   ]
  },
  {
   "cell_type": "code",
   "execution_count": null,
   "metadata": {},
   "outputs": [],
   "source": []
  },
  {
   "cell_type": "code",
   "execution_count": null,
   "metadata": {},
   "outputs": [],
   "source": []
  }
 ],
 "metadata": {
  "kernelspec": {
   "display_name": "Python 3",
   "language": "python",
   "name": "python3"
  },
  "language_info": {
   "codemirror_mode": {
    "name": "ipython",
    "version": 3
   },
   "file_extension": ".py",
   "mimetype": "text/x-python",
   "name": "python",
   "nbconvert_exporter": "python",
   "pygments_lexer": "ipython3",
   "version": "3.7.5"
  }
 },
 "nbformat": 4,
 "nbformat_minor": 4
}
