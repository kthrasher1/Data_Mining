{
 "cells": [
  {
   "cell_type": "markdown",
   "metadata": {},
   "source": [
    "# Lab 5: Models & Confusion Matrices"
   ]
  },
  {
   "cell_type": "markdown",
   "metadata": {},
   "source": [
    "### Task 1 "
   ]
  },
  {
   "cell_type": "code",
   "execution_count": 8,
   "metadata": {},
   "outputs": [],
   "source": [
    "import pandas as pd\n",
    "import seaborn as sns\n",
    "import matplotlib.pyplot as plt\n",
    "import numpy as np\n",
    "import sklearn as sk"
   ]
  },
  {
   "cell_type": "code",
   "execution_count": 10,
   "metadata": {},
   "outputs": [],
   "source": [
    "gt = [ \"C\", \"NC\", \"C\", \"C\", \"C\", \"NC\", \"NC\", \"NC\", \"NC\", \"C\", \"NC\", \"NC\", \"C\", \"C\", \"NC\", \"NC\", \"NC\" ]\n",
    "\n",
    "pred = [ \"NC\", \"NC\", \"NC\", \"NC\", \"C\", \"NC\", \"NC\", \"C\", \"NC\", \"NC\", \"C\", \"C\", \"NC\", \"NC\", \"NC\", \"C\", \"NC\" ]\n",
    "\n",
    "\n",
    "from sklearn.metrics import confusion_matrix"
   ]
  },
  {
   "cell_type": "code",
   "execution_count": 11,
   "metadata": {},
   "outputs": [
    {
     "data": {
      "text/plain": [
       "array([[1, 6],\n",
       "       [4, 6]])"
      ]
     },
     "execution_count": 11,
     "metadata": {},
     "output_type": "execute_result"
    }
   ],
   "source": [
    "confusion_matrix(gt, pred)"
   ]
  },
  {
   "cell_type": "markdown",
   "metadata": {},
   "source": [
    "Confusion matrices can also done via pandas."
   ]
  },
  {
   "cell_type": "code",
   "execution_count": 17,
   "metadata": {},
   "outputs": [
    {
     "ename": "SyntaxError",
     "evalue": "invalid syntax (<ipython-input-17-9edeaa20d004>, line 4)",
     "output_type": "error",
     "traceback": [
      "\u001b[0;36m  File \u001b[0;32m\"<ipython-input-17-9edeaa20d004>\"\u001b[0;36m, line \u001b[0;32m4\u001b[0m\n\u001b[0;31m    df_confusion = pd.crosstab(gt, pred, rownames=['Actual'], colnames=['Predicted'], margins=True])\u001b[0m\n\u001b[0m                                                                                                  ^\u001b[0m\n\u001b[0;31mSyntaxError\u001b[0m\u001b[0;31m:\u001b[0m invalid syntax\n"
     ]
    }
   ],
   "source": [
    "gt = pd.Series([ \"C\", \"NC\", \"C\", \"C\", \"C\", \"NC\", \"NC\", \"NC\", \"NC\", \"C\", \"NC\", \"NC\", \"C\", \"C\", \"NC\", \"NC\", \"NC\" ])\n",
    "pred = pd.Series([ \"NC\", \"NC\", \"NC\", \"NC\", \"C\", \"NC\", \"NC\", \"C\", \"NC\", \"NC\", \"C\", \"C\", \"NC\", \"NC\", \"NC\", \"C\", \"NC\" ])\n",
    "\n",
    "df_confusion = pd.crosstab(gt, pred, rownames=['Actual'], colnames=['Predicted'], margins=True])\n",
    "\n",
    "\n",
    "df_confusion"
   ]
  },
  {
   "cell_type": "code",
   "execution_count": null,
   "metadata": {},
   "outputs": [],
   "source": []
  },
  {
   "cell_type": "code",
   "execution_count": null,
   "metadata": {},
   "outputs": [],
   "source": []
  },
  {
   "cell_type": "code",
   "execution_count": null,
   "metadata": {},
   "outputs": [],
   "source": []
  },
  {
   "cell_type": "code",
   "execution_count": null,
   "metadata": {},
   "outputs": [],
   "source": []
  },
  {
   "cell_type": "code",
   "execution_count": null,
   "metadata": {},
   "outputs": [],
   "source": []
  }
 ],
 "metadata": {
  "kernelspec": {
   "display_name": "Python 3",
   "language": "python",
   "name": "python3"
  },
  "language_info": {
   "codemirror_mode": {
    "name": "ipython",
    "version": 3
   },
   "file_extension": ".py",
   "mimetype": "text/x-python",
   "name": "python",
   "nbconvert_exporter": "python",
   "pygments_lexer": "ipython3",
   "version": "3.7.5"
  }
 },
 "nbformat": 4,
 "nbformat_minor": 4
}
