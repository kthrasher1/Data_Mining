{
 "cells": [
  {
   "cell_type": "code",
   "execution_count": 1,
   "metadata": {},
   "outputs": [],
   "source": [
    "import pandas as pd"
   ]
  },
  {
   "cell_type": "markdown",
   "metadata": {},
   "source": [
    "## Note:\n",
    "In the lecture, it was noticed that the ACW data didn't seem to go above 0.6.\n",
    "This was due to an error in data collating on my part when anonymising the data.\n",
    "These mistakes can happen, and it's good practice that you use Data Understanding to find any potential contradictions.\n",
    "\n",
    "It has been fixed for this plotting, and this may change some of the distributions, and therefore conclusions.\n",
    "\n",
    "*If something doesn't seem to make sense, question it!*"
   ]
  },
  {
   "cell_type": "code",
   "execution_count": 2,
   "metadata": {},
   "outputs": [],
   "source": [
    "df = pd.read_csv('./08140marks2018_raw.csv')"
   ]
  },
  {
   "cell_type": "code",
   "execution_count": 3,
   "metadata": {},
   "outputs": [
    {
     "name": "stdout",
     "output_type": "stream",
     "text": [
      "<class 'pandas.core.frame.DataFrame'>\n",
      "RangeIndex: 171 entries, 0 to 170\n",
      "Data columns (total 40 columns):\n",
      "Unnamed: 0                               0 non-null float64\n",
      "Unnamed: 1                               0 non-null float64\n",
      "Person                                   171 non-null object\n",
      "Client does basic lookup                 171 non-null int64\n",
      "Client does basic lookup correct text    171 non-null int64\n",
      "Client whois update any text             171 non-null int64\n",
      "Client whois update correct text         171 non-null int64\n",
      "Client -h -p work for most tests         171 non-null int64\n",
      "client http lookup: all 3 correct        171 non-null int64\n",
      "client http update: all 3 correct        171 non-null int64\n",
      "client timeout                           171 non-null int64\n",
      "#Client Total                            171 non-null int64\n",
      "Server whois lookup                      171 non-null int64\n",
      "Server whois update                      171 non-null int64\n",
      "Server http lookup                       171 non-null int64\n",
      "Server http update                       171 non-null int64\n",
      "server timeout                           171 non-null int64\n",
      "server threads                           171 non-null int64\n",
      "Server data type                         171 non-null int64\n",
      "Server output                            171 non-null int64\n",
      "#Server total                            171 non-null int64\n",
      "Server Options                           171 non-null int64\n",
      "Code quality                             171 non-null int64\n",
      "Client Robust                            171 non-null int64\n",
      "Server Robust                            171 non-null int64\n",
      "Packaging rules                          171 non-null int64\n",
      "Client Options                           171 non-null int64\n",
      "#Total Marks                             171 non-null int64\n",
      "Capping                                  171 non-null int64\n",
      "3 Client features                        171 non-null int64\n",
      "2 Client Ease                            171 non-null int64\n",
      "3 Server Features                        171 non-null int64\n",
      "2 Server Ease                            171 non-null int64\n",
      "Attendance                               171 non-null object\n",
      "Percent                                  171 non-null object\n",
      "Total                                    171 non-null object\n",
      "Exam                                     167 non-null object\n",
      "08134                                    171 non-null int64\n",
      "Unnamed: 38                              5 non-null object\n",
      "Final                                    171 non-null object\n",
      "dtypes: float64(2), int64(31), object(7)\n",
      "memory usage: 53.5+ KB\n"
     ]
    }
   ],
   "source": [
    "df.info()"
   ]
  },
  {
   "cell_type": "code",
   "execution_count": 4,
   "metadata": {},
   "outputs": [
    {
     "data": {
      "text/html": [
       "<div>\n",
       "<style scoped>\n",
       "    .dataframe tbody tr th:only-of-type {\n",
       "        vertical-align: middle;\n",
       "    }\n",
       "\n",
       "    .dataframe tbody tr th {\n",
       "        vertical-align: top;\n",
       "    }\n",
       "\n",
       "    .dataframe thead th {\n",
       "        text-align: right;\n",
       "    }\n",
       "</style>\n",
       "<table border=\"1\" class=\"dataframe\">\n",
       "  <thead>\n",
       "    <tr style=\"text-align: right;\">\n",
       "      <th></th>\n",
       "      <th>Unnamed: 0</th>\n",
       "      <th>Unnamed: 1</th>\n",
       "      <th>Person</th>\n",
       "      <th>Client does basic lookup</th>\n",
       "      <th>Client does basic lookup correct text</th>\n",
       "      <th>Client whois update any text</th>\n",
       "      <th>Client whois update correct text</th>\n",
       "      <th>Client -h -p work for most tests</th>\n",
       "      <th>client http lookup: all 3 correct</th>\n",
       "      <th>client http update: all 3 correct</th>\n",
       "      <th>...</th>\n",
       "      <th>2 Client Ease</th>\n",
       "      <th>3 Server Features</th>\n",
       "      <th>2 Server Ease</th>\n",
       "      <th>Attendance</th>\n",
       "      <th>Percent</th>\n",
       "      <th>Total</th>\n",
       "      <th>Exam</th>\n",
       "      <th>08134</th>\n",
       "      <th>Unnamed: 38</th>\n",
       "      <th>Final</th>\n",
       "    </tr>\n",
       "  </thead>\n",
       "  <tbody>\n",
       "    <tr>\n",
       "      <th>0</th>\n",
       "      <td>NaN</td>\n",
       "      <td>NaN</td>\n",
       "      <td>P1</td>\n",
       "      <td>1</td>\n",
       "      <td>1</td>\n",
       "      <td>1</td>\n",
       "      <td>1</td>\n",
       "      <td>1</td>\n",
       "      <td>1</td>\n",
       "      <td>0</td>\n",
       "      <td>...</td>\n",
       "      <td>1</td>\n",
       "      <td>2</td>\n",
       "      <td>2</td>\n",
       "      <td>40%</td>\n",
       "      <td>90%</td>\n",
       "      <td>83.33%</td>\n",
       "      <td>60.94%</td>\n",
       "      <td>84</td>\n",
       "      <td>NaN</td>\n",
       "      <td>72.14%</td>\n",
       "    </tr>\n",
       "    <tr>\n",
       "      <th>1</th>\n",
       "      <td>NaN</td>\n",
       "      <td>NaN</td>\n",
       "      <td>P2</td>\n",
       "      <td>1</td>\n",
       "      <td>1</td>\n",
       "      <td>1</td>\n",
       "      <td>1</td>\n",
       "      <td>1</td>\n",
       "      <td>1</td>\n",
       "      <td>0</td>\n",
       "      <td>...</td>\n",
       "      <td>1</td>\n",
       "      <td>1</td>\n",
       "      <td>1</td>\n",
       "      <td>68%</td>\n",
       "      <td>80%</td>\n",
       "      <td>70.00%</td>\n",
       "      <td>60.94%</td>\n",
       "      <td>67</td>\n",
       "      <td>NaN</td>\n",
       "      <td>65.47%</td>\n",
       "    </tr>\n",
       "    <tr>\n",
       "      <th>2</th>\n",
       "      <td>NaN</td>\n",
       "      <td>NaN</td>\n",
       "      <td>P3</td>\n",
       "      <td>0</td>\n",
       "      <td>0</td>\n",
       "      <td>0</td>\n",
       "      <td>0</td>\n",
       "      <td>0</td>\n",
       "      <td>1</td>\n",
       "      <td>0</td>\n",
       "      <td>...</td>\n",
       "      <td>1</td>\n",
       "      <td>2</td>\n",
       "      <td>2</td>\n",
       "      <td>44%</td>\n",
       "      <td>30%</td>\n",
       "      <td>46.67%</td>\n",
       "      <td>66.25%</td>\n",
       "      <td>39</td>\n",
       "      <td>NaN</td>\n",
       "      <td>56.46%</td>\n",
       "    </tr>\n",
       "    <tr>\n",
       "      <th>3</th>\n",
       "      <td>NaN</td>\n",
       "      <td>NaN</td>\n",
       "      <td>P4</td>\n",
       "      <td>1</td>\n",
       "      <td>1</td>\n",
       "      <td>1</td>\n",
       "      <td>1</td>\n",
       "      <td>1</td>\n",
       "      <td>1</td>\n",
       "      <td>1</td>\n",
       "      <td>...</td>\n",
       "      <td>1</td>\n",
       "      <td>2</td>\n",
       "      <td>2</td>\n",
       "      <td>48%</td>\n",
       "      <td>65%</td>\n",
       "      <td>70.00%</td>\n",
       "      <td>45.94%</td>\n",
       "      <td>41</td>\n",
       "      <td>NaN</td>\n",
       "      <td>57.97%</td>\n",
       "    </tr>\n",
       "    <tr>\n",
       "      <th>4</th>\n",
       "      <td>NaN</td>\n",
       "      <td>NaN</td>\n",
       "      <td>P5</td>\n",
       "      <td>1</td>\n",
       "      <td>1</td>\n",
       "      <td>1</td>\n",
       "      <td>1</td>\n",
       "      <td>1</td>\n",
       "      <td>1</td>\n",
       "      <td>1</td>\n",
       "      <td>...</td>\n",
       "      <td>2</td>\n",
       "      <td>3</td>\n",
       "      <td>2</td>\n",
       "      <td>44%</td>\n",
       "      <td>100%</td>\n",
       "      <td>100.00%</td>\n",
       "      <td>66.25%</td>\n",
       "      <td>90</td>\n",
       "      <td>NaN</td>\n",
       "      <td>83.13%</td>\n",
       "    </tr>\n",
       "  </tbody>\n",
       "</table>\n",
       "<p>5 rows × 40 columns</p>\n",
       "</div>"
      ],
      "text/plain": [
       "   Unnamed: 0  Unnamed: 1 Person  Client does basic lookup  \\\n",
       "0         NaN         NaN     P1                         1   \n",
       "1         NaN         NaN     P2                         1   \n",
       "2         NaN         NaN     P3                         0   \n",
       "3         NaN         NaN     P4                         1   \n",
       "4         NaN         NaN     P5                         1   \n",
       "\n",
       "   Client does basic lookup correct text  Client whois update any text  \\\n",
       "0                                      1                             1   \n",
       "1                                      1                             1   \n",
       "2                                      0                             0   \n",
       "3                                      1                             1   \n",
       "4                                      1                             1   \n",
       "\n",
       "   Client whois update correct text  Client -h -p work for most tests  \\\n",
       "0                                 1                                 1   \n",
       "1                                 1                                 1   \n",
       "2                                 0                                 0   \n",
       "3                                 1                                 1   \n",
       "4                                 1                                 1   \n",
       "\n",
       "   client http lookup: all 3 correct  client http update: all 3 correct  ...  \\\n",
       "0                                  1                                  0  ...   \n",
       "1                                  1                                  0  ...   \n",
       "2                                  1                                  0  ...   \n",
       "3                                  1                                  1  ...   \n",
       "4                                  1                                  1  ...   \n",
       "\n",
       "   2 Client Ease  3 Server Features  2 Server Ease  Attendance  Percent  \\\n",
       "0              1                  2              2         40%      90%   \n",
       "1              1                  1              1         68%      80%   \n",
       "2              1                  2              2         44%      30%   \n",
       "3              1                  2              2         48%      65%   \n",
       "4              2                  3              2         44%     100%   \n",
       "\n",
       "     Total    Exam  08134  Unnamed: 38   Final  \n",
       "0   83.33%  60.94%     84          NaN  72.14%  \n",
       "1   70.00%  60.94%     67          NaN  65.47%  \n",
       "2   46.67%  66.25%     39          NaN  56.46%  \n",
       "3   70.00%  45.94%     41          NaN  57.97%  \n",
       "4  100.00%  66.25%     90          NaN  83.13%  \n",
       "\n",
       "[5 rows x 40 columns]"
      ]
     },
     "execution_count": 4,
     "metadata": {},
     "output_type": "execute_result"
    }
   ],
   "source": [
    "df.head()"
   ]
  },
  {
   "cell_type": "code",
   "execution_count": 5,
   "metadata": {},
   "outputs": [
    {
     "data": {
      "text/html": [
       "<div>\n",
       "<style scoped>\n",
       "    .dataframe tbody tr th:only-of-type {\n",
       "        vertical-align: middle;\n",
       "    }\n",
       "\n",
       "    .dataframe tbody tr th {\n",
       "        vertical-align: top;\n",
       "    }\n",
       "\n",
       "    .dataframe thead th {\n",
       "        text-align: right;\n",
       "    }\n",
       "</style>\n",
       "<table border=\"1\" class=\"dataframe\">\n",
       "  <thead>\n",
       "    <tr style=\"text-align: right;\">\n",
       "      <th></th>\n",
       "      <th>Attendance</th>\n",
       "      <th>Total</th>\n",
       "      <th>Exam</th>\n",
       "      <th>Final</th>\n",
       "    </tr>\n",
       "  </thead>\n",
       "  <tbody>\n",
       "    <tr>\n",
       "      <th>111</th>\n",
       "      <td>64%</td>\n",
       "      <td>90.00%</td>\n",
       "      <td>68.44%</td>\n",
       "      <td>79.22%</td>\n",
       "    </tr>\n",
       "    <tr>\n",
       "      <th>169</th>\n",
       "      <td>60%</td>\n",
       "      <td>86.67%</td>\n",
       "      <td>48.44%</td>\n",
       "      <td>67.55%</td>\n",
       "    </tr>\n",
       "    <tr>\n",
       "      <th>81</th>\n",
       "      <td>64%</td>\n",
       "      <td>83.33%</td>\n",
       "      <td>46.25%</td>\n",
       "      <td>64.79%</td>\n",
       "    </tr>\n",
       "    <tr>\n",
       "      <th>149</th>\n",
       "      <td>76%</td>\n",
       "      <td>33.33%</td>\n",
       "      <td>58.75%</td>\n",
       "      <td>46.04%</td>\n",
       "    </tr>\n",
       "    <tr>\n",
       "      <th>122</th>\n",
       "      <td>60%</td>\n",
       "      <td>80.00%</td>\n",
       "      <td>36.25%</td>\n",
       "      <td>58.13%</td>\n",
       "    </tr>\n",
       "  </tbody>\n",
       "</table>\n",
       "</div>"
      ],
      "text/plain": [
       "    Attendance   Total    Exam   Final\n",
       "111        64%  90.00%  68.44%  79.22%\n",
       "169        60%  86.67%  48.44%  67.55%\n",
       "81         64%  83.33%  46.25%  64.79%\n",
       "149        76%  33.33%  58.75%  46.04%\n",
       "122        60%  80.00%  36.25%  58.13%"
      ]
     },
     "execution_count": 5,
     "metadata": {},
     "output_type": "execute_result"
    }
   ],
   "source": [
    "extracted = df[['Attendance', 'Total', 'Exam', 'Final']]\n",
    "extracted.sample(5)"
   ]
  },
  {
   "cell_type": "code",
   "execution_count": 6,
   "metadata": {},
   "outputs": [],
   "source": [
    "cleaned = extracted.fillna(0) #.truncate(after=170)"
   ]
  },
  {
   "cell_type": "code",
   "execution_count": 7,
   "metadata": {},
   "outputs": [
    {
     "data": {
      "text/html": [
       "<div>\n",
       "<style scoped>\n",
       "    .dataframe tbody tr th:only-of-type {\n",
       "        vertical-align: middle;\n",
       "    }\n",
       "\n",
       "    .dataframe tbody tr th {\n",
       "        vertical-align: top;\n",
       "    }\n",
       "\n",
       "    .dataframe thead th {\n",
       "        text-align: right;\n",
       "    }\n",
       "</style>\n",
       "<table border=\"1\" class=\"dataframe\">\n",
       "  <thead>\n",
       "    <tr style=\"text-align: right;\">\n",
       "      <th></th>\n",
       "      <th>Attendance</th>\n",
       "      <th>ACW</th>\n",
       "      <th>Exam</th>\n",
       "      <th>Final</th>\n",
       "    </tr>\n",
       "  </thead>\n",
       "  <tbody>\n",
       "    <tr>\n",
       "      <th>77</th>\n",
       "      <td>64%</td>\n",
       "      <td>83.33%</td>\n",
       "      <td>40.63%</td>\n",
       "      <td>61.98%</td>\n",
       "    </tr>\n",
       "    <tr>\n",
       "      <th>64</th>\n",
       "      <td>36%</td>\n",
       "      <td>56.67%</td>\n",
       "      <td>68.44%</td>\n",
       "      <td>62.55%</td>\n",
       "    </tr>\n",
       "    <tr>\n",
       "      <th>63</th>\n",
       "      <td>68%</td>\n",
       "      <td>90.00%</td>\n",
       "      <td>53.75%</td>\n",
       "      <td>71.88%</td>\n",
       "    </tr>\n",
       "    <tr>\n",
       "      <th>68</th>\n",
       "      <td>4%</td>\n",
       "      <td>33.33%</td>\n",
       "      <td>43.75%</td>\n",
       "      <td>38.54%</td>\n",
       "    </tr>\n",
       "    <tr>\n",
       "      <th>18</th>\n",
       "      <td>32%</td>\n",
       "      <td>60.00%</td>\n",
       "      <td>53.44%</td>\n",
       "      <td>56.72%</td>\n",
       "    </tr>\n",
       "  </tbody>\n",
       "</table>\n",
       "</div>"
      ],
      "text/plain": [
       "   Attendance     ACW    Exam   Final\n",
       "77        64%  83.33%  40.63%  61.98%\n",
       "64        36%  56.67%  68.44%  62.55%\n",
       "63        68%  90.00%  53.75%  71.88%\n",
       "68         4%  33.33%  43.75%  38.54%\n",
       "18        32%  60.00%  53.44%  56.72%"
      ]
     },
     "execution_count": 7,
     "metadata": {},
     "output_type": "execute_result"
    }
   ],
   "source": [
    "cleaned = cleaned.rename(columns={'Total': 'ACW'}) # A mapping, from Total -> ACW. Much nicer.\n",
    "\n",
    "cleaned.sample(5)"
   ]
  },
  {
   "cell_type": "code",
   "execution_count": 8,
   "metadata": {},
   "outputs": [],
   "source": [
    "def series_pcnt_to_fract(series_item):\n",
    "    if type(series_item) == str and series_item[-1] == \"%\":\n",
    "        #print(float(series_item[:-1]) / 100)\n",
    "        return float(series_item[:-1]) / 100\n",
    "    return series_item\n",
    "\n",
    "def df_apply_pcnt(x):\n",
    "    return x.apply(series_pcnt_to_fract)"
   ]
  },
  {
   "cell_type": "code",
   "execution_count": 9,
   "metadata": {},
   "outputs": [],
   "source": [
    "cleaned = cleaned.apply(df_apply_pcnt)"
   ]
  },
  {
   "cell_type": "code",
   "execution_count": 10,
   "metadata": {},
   "outputs": [],
   "source": [
    "import seaborn as sns"
   ]
  },
  {
   "cell_type": "code",
   "execution_count": 23,
   "metadata": {},
   "outputs": [
    {
     "data": {
      "text/html": [
       "<div>\n",
       "<style scoped>\n",
       "    .dataframe tbody tr th:only-of-type {\n",
       "        vertical-align: middle;\n",
       "    }\n",
       "\n",
       "    .dataframe tbody tr th {\n",
       "        vertical-align: top;\n",
       "    }\n",
       "\n",
       "    .dataframe thead th {\n",
       "        text-align: right;\n",
       "    }\n",
       "</style>\n",
       "<table border=\"1\" class=\"dataframe\">\n",
       "  <thead>\n",
       "    <tr style=\"text-align: right;\">\n",
       "      <th></th>\n",
       "      <th>Attendance</th>\n",
       "      <th>ACW</th>\n",
       "      <th>Exam</th>\n",
       "      <th>Final</th>\n",
       "    </tr>\n",
       "  </thead>\n",
       "  <tbody>\n",
       "    <tr>\n",
       "      <th>95</th>\n",
       "      <td>0.04</td>\n",
       "      <td>0.0333</td>\n",
       "      <td>0.5656</td>\n",
       "      <td>0.2995</td>\n",
       "    </tr>\n",
       "    <tr>\n",
       "      <th>67</th>\n",
       "      <td>0.40</td>\n",
       "      <td>0.6667</td>\n",
       "      <td>0.8444</td>\n",
       "      <td>0.7555</td>\n",
       "    </tr>\n",
       "    <tr>\n",
       "      <th>141</th>\n",
       "      <td>0.60</td>\n",
       "      <td>0.1333</td>\n",
       "      <td>0.4906</td>\n",
       "      <td>0.3120</td>\n",
       "    </tr>\n",
       "    <tr>\n",
       "      <th>129</th>\n",
       "      <td>0.28</td>\n",
       "      <td>0.2000</td>\n",
       "      <td>0.4313</td>\n",
       "      <td>0.3157</td>\n",
       "    </tr>\n",
       "    <tr>\n",
       "      <th>58</th>\n",
       "      <td>0.60</td>\n",
       "      <td>0.8000</td>\n",
       "      <td>0.6875</td>\n",
       "      <td>0.7438</td>\n",
       "    </tr>\n",
       "  </tbody>\n",
       "</table>\n",
       "</div>"
      ],
      "text/plain": [
       "     Attendance     ACW    Exam   Final\n",
       "95         0.04  0.0333  0.5656  0.2995\n",
       "67         0.40  0.6667  0.8444  0.7555\n",
       "141        0.60  0.1333  0.4906  0.3120\n",
       "129        0.28  0.2000  0.4313  0.3157\n",
       "58         0.60  0.8000  0.6875  0.7438"
      ]
     },
     "execution_count": 23,
     "metadata": {},
     "output_type": "execute_result"
    }
   ],
   "source": [
    "# We can use boolean expressions to obtain a dataframe of all records where attendance is not 0.\n",
    "# Using .sample(5) to just randomly show 5 samples.\n",
    "cleaned[ cleaned['Attendance'] != 0 ].sample(5)"
   ]
  },
  {
   "cell_type": "code",
   "execution_count": 12,
   "metadata": {},
   "outputs": [
    {
     "data": {
      "image/png": "[encoded data removed]",
      "text/plain": [
       "<Figure size 432x288 with 1 Axes>"
      ]
     },
     "metadata": {},
     "output_type": "display_data"
    }
   ],
   "source": [
    "# Get attendeance ( our X variable )\n",
    "# Get ACW Grade ( our Y variable )\n",
    "# From Dataframes where we use a boolean expression to say the records must have a non-zero ACW grade.\n",
    "atten_x = cleaned[ cleaned['ACW'] != 0 ]['Attendance']\n",
    "atten_y = cleaned[ cleaned['ACW'] != 0 ]['ACW']\n",
    "\n",
    "# Standard boilerplate\n",
    "from sklearn.linear_model import LinearRegression\n",
    "import matplotlib.pyplot as plt\n",
    "\n",
    "# Make a model, fit it, predict on it.\n",
    "model = LinearRegression()\n",
    "\n",
    "# Can use .values on a dataframe to obtain a list. Reshape this list to '2D'. See previous live coding.\n",
    "model = model.fit(atten_x.values.reshape(-1,1), atten_y)\n",
    "pred_y = model.predict(atten_x.values.reshape(-1,1))\n",
    "\n",
    "# Draw the raw data with a scatterplot.\n",
    "sns.scatterplot(atten_x, atten_y, label=\"Raw\")\n",
    "# Draw the line plot of our X input, to our linear regression output ( line of best fit essentially )\n",
    "sns.lineplot(atten_x, pred_y, label=\"Fit\")\n",
    "\n",
    "# Voodoo magic to get the axes, get any lines drawn on it, paint it black.\n",
    "plt.gca().get_lines()[0].set_color(\"black\")"
   ]
  },
  {
   "cell_type": "code",
   "execution_count": 13,
   "metadata": {},
   "outputs": [
    {
     "data": {
      "image/png": "[encoded data removed]",
      "text/plain": [
       "<Figure size 432x288 with 1 Axes>"
      ]
     },
     "metadata": {},
     "output_type": "display_data"
    }
   ],
   "source": [
    "# Same again, but this time we want to make sure they have a non-zero exam.\n",
    "atten_x = cleaned[ cleaned['Exam'] != 0 ]['Attendance']\n",
    "atten_y = cleaned[ cleaned['Exam'] != 0 ]['Exam']\n",
    "\n",
    "# Standard\n",
    "model = LinearRegression()\n",
    "model = model.fit(atten_x.values.reshape(-1,1), atten_y)\n",
    "pred_y = model.predict(atten_x.values.reshape(-1,1))\n",
    "\n",
    "sns.scatterplot(atten_x, atten_y, label=\"Raw\")\n",
    "sns.lineplot(atten_x, pred_y, label=\"Fit\")\n",
    "\n",
    "# Same again\n",
    "plt.gca().get_lines()[0].set_color(\"black\")"
   ]
  },
  {
   "cell_type": "code",
   "execution_count": 14,
   "metadata": {},
   "outputs": [
    {
     "data": {
      "text/plain": [
       "<matplotlib.axes._subplots.AxesSubplot at 0x7faea2ac11d0>"
      ]
     },
     "execution_count": 14,
     "metadata": {},
     "output_type": "execute_result"
    },
    {
     "data": {
      "image/png": "[encoded data removed]",
      "text/plain": [
       "<Figure size 432x288 with 1 Axes>"
      ]
     },
     "metadata": {},
     "output_type": "display_data"
    }
   ],
   "source": [
    "# Univariate plot of Attendance\n",
    "sns.distplot(atten_x)"
   ]
  },
  {
   "cell_type": "code",
   "execution_count": 15,
   "metadata": {},
   "outputs": [
    {
     "data": {
      "text/plain": [
       "<matplotlib.axes._subplots.AxesSubplot at 0x7faea2a40650>"
      ]
     },
     "execution_count": 15,
     "metadata": {},
     "output_type": "execute_result"
    },
    {
     "data": {
      "image/png": "[encoded data removed]",
      "text/plain": [
       "<Figure size 432x288 with 1 Axes>"
      ]
     },
     "metadata": {},
     "output_type": "display_data"
    }
   ],
   "source": [
    "# Univariate plot of Exam grades. Seems to follow a normal distribution. Good!\n",
    "sns.distplot(atten_y)"
   ]
  },
  {
   "cell_type": "code",
   "execution_count": 25,
   "metadata": {},
   "outputs": [],
   "source": [
    "# Discretising the Attendance ranges into 5 bands. First we want data where their exam AND ACW are non-zero.\n",
    "\n",
    "# Improvement compared to lecture delivery.\n",
    "# Doing implicit indexing like below may cause issues. As the indices change between Exam and ACW potentially.\n",
    "# Better to do it in two stages.\n",
    "#d = cleaned[ cleaned['Exam'] != 0][cleaned['ACW'] != 0 ]\n",
    "\n",
    "# Split up the indexing to first do exam, then ACW. This makes sure the ACW index is tracking onto the Exam-pruned table\n",
    "# Rather than using the original indexing scheme which may no longer be valid!\n",
    "d = cleaned[ cleaned['Exam'] != 0 ]\n",
    "d = d[ d['ACW'] != 0 ]\n",
    "\n",
    "# We can cut it into 5 ranges. Can provide labels to make things easier.\n",
    "d['Atten Type'] = pd.cut(d['Attendance'], 5)#, labels=[\"very poor\", \"poor\", \"okay\", \"good\", \"very good\"])"
   ]
  },
  {
   "cell_type": "code",
   "execution_count": 24,
   "metadata": {},
   "outputs": [
    {
     "data": {
      "text/html": [
       "<div>\n",
       "<style scoped>\n",
       "    .dataframe tbody tr th:only-of-type {\n",
       "        vertical-align: middle;\n",
       "    }\n",
       "\n",
       "    .dataframe tbody tr th {\n",
       "        vertical-align: top;\n",
       "    }\n",
       "\n",
       "    .dataframe thead th {\n",
       "        text-align: right;\n",
       "    }\n",
       "</style>\n",
       "<table border=\"1\" class=\"dataframe\">\n",
       "  <thead>\n",
       "    <tr style=\"text-align: right;\">\n",
       "      <th></th>\n",
       "      <th>Attendance</th>\n",
       "      <th>ACW</th>\n",
       "      <th>Exam</th>\n",
       "      <th>Final</th>\n",
       "      <th>Atten Type</th>\n",
       "    </tr>\n",
       "  </thead>\n",
       "  <tbody>\n",
       "    <tr>\n",
       "      <th>46</th>\n",
       "      <td>0.16</td>\n",
       "      <td>0.0333</td>\n",
       "      <td>0.3813</td>\n",
       "      <td>0.2073</td>\n",
       "      <td>(-0.00084, 0.168]</td>\n",
       "    </tr>\n",
       "    <tr>\n",
       "      <th>82</th>\n",
       "      <td>0.32</td>\n",
       "      <td>0.1333</td>\n",
       "      <td>0.5813</td>\n",
       "      <td>0.3573</td>\n",
       "      <td>(0.168, 0.336]</td>\n",
       "    </tr>\n",
       "    <tr>\n",
       "      <th>140</th>\n",
       "      <td>0.48</td>\n",
       "      <td>0.5000</td>\n",
       "      <td>0.4594</td>\n",
       "      <td>0.4797</td>\n",
       "      <td>(0.336, 0.504]</td>\n",
       "    </tr>\n",
       "    <tr>\n",
       "      <th>123</th>\n",
       "      <td>0.60</td>\n",
       "      <td>0.9667</td>\n",
       "      <td>0.5906</td>\n",
       "      <td>0.7786</td>\n",
       "      <td>(0.504, 0.672]</td>\n",
       "    </tr>\n",
       "    <tr>\n",
       "      <th>121</th>\n",
       "      <td>0.68</td>\n",
       "      <td>0.9333</td>\n",
       "      <td>0.5188</td>\n",
       "      <td>0.7261</td>\n",
       "      <td>(0.672, 0.84]</td>\n",
       "    </tr>\n",
       "  </tbody>\n",
       "</table>\n",
       "</div>"
      ],
      "text/plain": [
       "     Attendance     ACW    Exam   Final         Atten Type\n",
       "46         0.16  0.0333  0.3813  0.2073  (-0.00084, 0.168]\n",
       "82         0.32  0.1333  0.5813  0.3573     (0.168, 0.336]\n",
       "140        0.48  0.5000  0.4594  0.4797     (0.336, 0.504]\n",
       "123        0.60  0.9667  0.5906  0.7786     (0.504, 0.672]\n",
       "121        0.68  0.9333  0.5188  0.7261      (0.672, 0.84]"
      ]
     },
     "execution_count": 24,
     "metadata": {},
     "output_type": "execute_result"
    }
   ],
   "source": [
    "d.sample(5) # We can see our new column feature."
   ]
  },
  {
   "cell_type": "code",
   "execution_count": 18,
   "metadata": {},
   "outputs": [
    {
     "data": {
      "text/plain": [
       "<matplotlib.axes._subplots.AxesSubplot at 0x7faea2a8d8d0>"
      ]
     },
     "execution_count": 18,
     "metadata": {},
     "output_type": "execute_result"
    },
    {
     "data": {
      "image/png": "[encoded data removed]",
      "text/plain": [
       "<Figure size 432x288 with 1 Axes>"
      ]
     },
     "metadata": {},
     "output_type": "display_data"
    }
   ],
   "source": [
    "# Boxplot the new categorical against the continuous ACW\n",
    "sns.boxplot(x='Atten Type', y='ACW', data=d)"
   ]
  },
  {
   "cell_type": "code",
   "execution_count": 19,
   "metadata": {},
   "outputs": [
    {
     "data": {
      "text/plain": [
       "<matplotlib.axes._subplots.AxesSubplot at 0x7faea09afb90>"
      ]
     },
     "execution_count": 19,
     "metadata": {},
     "output_type": "execute_result"
    },
    {
     "data": {
      "image/png": "[encoded data removed]",
      "text/plain": [
       "<Figure size 432x288 with 1 Axes>"
      ]
     },
     "metadata": {},
     "output_type": "display_data"
    }
   ],
   "source": [
    "# Same again for Exam\n",
    "sns.boxplot(x='Atten Type', y='Exam', data=d)"
   ]
  },
  {
   "cell_type": "code",
   "execution_count": 20,
   "metadata": {},
   "outputs": [
    {
     "data": {
      "text/plain": [
       "(0.5700975757575758, 0.27688061197341024)"
      ]
     },
     "execution_count": 20,
     "metadata": {},
     "output_type": "execute_result"
    }
   ],
   "source": [
    "# Similarly we can get simple metrics of our data too. Depending on spread this could be useful as a heuristic for outliers.\n",
    "d['ACW'].mean(), d['ACW'].std()"
   ]
  },
  {
   "cell_type": "code",
   "execution_count": 21,
   "metadata": {},
   "outputs": [
    {
     "data": {
      "text/plain": [
       "<matplotlib.axes._subplots.AxesSubplot at 0x7faea08fad50>"
      ]
     },
     "execution_count": 21,
     "metadata": {},
     "output_type": "execute_result"
    },
    {
     "data": {
      "image/png": "[encoded data removed]",
      "text/plain": [
       "<Figure size 432x288 with 1 Axes>"
      ]
     },
     "metadata": {},
     "output_type": "display_data"
    }
   ],
   "source": [
    "# Univariate plot for our ACW.\n",
    "sns.distplot(d['ACW'])"
   ]
  },
  {
   "cell_type": "code",
   "execution_count": null,
   "metadata": {},
   "outputs": [],
   "source": []
  }
 ],
 "metadata": {
  "kernelspec": {
   "display_name": "Python 3",
   "language": "python",
   "name": "python3"
  },
  "language_info": {
   "codemirror_mode": {
    "name": "ipython",
    "version": 3
   },
   "file_extension": ".py",
   "mimetype": "text/x-python",
   "name": "python",
   "nbconvert_exporter": "python",
   "pygments_lexer": "ipython3",
   "version": "3.7.4"
  }
 },
 "nbformat": 4,
 "nbformat_minor": 2
}
